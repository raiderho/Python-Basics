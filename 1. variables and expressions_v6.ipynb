{
 "cells": [
  {
   "cell_type": "markdown",
   "metadata": {},
   "source": [
    "# Instructor\n",
    "\n",
    "> **Steven Ho**     \n",
    "raiderho@gmail.com  \n",
    "如有任何意見，歡迎指教。"
   ]
  },
  {
   "cell_type": "markdown",
   "metadata": {},
   "source": [
    "### Jupyter Notebook 或 JupyterLab 相關網址介紹\n",
    "* 本講義建議安裝 [Anaconda 軟體套件管理系統](https://www.anaconda.com/download)，以下說明會以 Anaconda 操作為準。\n",
    "* [Jupyter Notebook基礎操作影片](https://www.youtube.com/watch?v=rs05fDVZpHs&t=1s)：影片已是過去版本，但目前多數操作仍相通。\n",
    "* **Jupyter Notebook** 快捷鍵：在**命令模式**按下 **h** 會跳出說明。若需要閱讀中文版，可以用瀏覽器翻譯。\n",
    "    * 過去版本： **cell 窗格的框框左側若是綠色，處於編輯模式**，滑鼠在 cell 外點一下，**cell 窗格的框框左側變成藍色，轉為命令模式**。\n",
    "    * 現今版本： **cell 窗格若有藍色細框，處於編輯模式**，滑鼠在 cell 外點一下，**cell 窗格若無藍色細框，轉為命令模式**。\n",
    "* **JupyterLab** 快捷鍵：參看[這裡](https://gist.github.com/discdiver/9e00618756d120a8c9fa344ac1c375ac)或[官方文檔](https://jupyterlab.readthedocs.io/en/latest/user/commands.html)。 \n",
    "* **適用於 Jupyter Notebook**，可以顯示變數的外掛套件，**但是在最新版本的 Jupyter Notebook 已失效**：\n",
    "    1. 安裝 jupyter_contrib_nbextensions:  \n",
    "    在 Anaconda Prompt 中輸入   \n",
    "    `pip install jupyter_contrib_nbextensions`\n",
    "    2. 設置 nbextension:  \n",
    "    在 Anaconda Prompt 中輸入   \n",
    "    `jupyter contrib nbextension install --user`\n",
    "    3. 打開 Jupyter Notebook:  \n",
    "    (1) **在檔案目錄中**，上頭頁籤除了 Files、Running、Clusters，現在多了一個 Nbextensions，點進去。  \n",
    "    (2) 在 Configurable nbextensions 把 disable... 選項拿掉，就可以自行調整設定。將 Variable Inspector 勾選。  \n",
    "    (3) **打開任何一個 IPYNB 檔案**，功能表列最右邊會多一個圖示，那個圖示就可以顯示變數的資訊。\n",
    "    ![jupyter-extensions](https://i.imgur.com/VjTlIkZ.png)\n",
    "* **適用於JupyterLab**，可以顯示變數的外掛套件：\n",
    "    1. 安裝 jupyterlab_variableinspector:  \n",
    "    在 Anaconda Prompt 中輸入   \n",
    "    `pip install lckr-jupyterlab-variableinspector`\n",
    "    2. 打開 JupyterLab:  \n",
    "    在 Anaconda Prompt 中輸入   \n",
    "    `jupyter lab`  \n",
    "    3. 開啟 Variable Inspector:  \n",
    "    在 JupyterLab 中的任意一處點擊滑鼠右鍵，選單最後一個選項出現 Open Variable Inspector，點擊後上方頁籤會多一個 Variable Inspector 頁面。"
   ]
  },
  {
   "cell_type": "markdown",
   "metadata": {},
   "source": [
    "<a id='HOME'></a>\n",
    "# 1. Variables and Expressions\n",
    "## 變數和運算式\n",
    "\n",
    "* [1.1 變數](#variables) \n",
    "    * [1.1.1 認識變數](#basic_concept) \n",
    "    * [1.1.2 建立變數與刪除變數](#creat_and_delete) \n",
    "    * [1.1.3 程式碼註解](#comment)\n",
    "    * [1.1.4 變數保留字](#reserved_words)\n",
    "* [1.2 資料型態](#data_types)\n",
    "    * [1.2.1 數值型態](#numeric_types)\n",
    "    * [1.2.2 字串型態](#string_types)\n",
    "    * [1.2.3 資料型態轉換](#type_coversion)\n",
    "* [1.3 輸出與輸入](#output_and_input)\n",
    "    * [1.3.1 print 輸出](#print)\n",
    "    * [1.3.2 input 輸入](#input)\n",
    "* [1.4 運算式](#expressions)\n",
    "    * [1.4.1 算術運算子](#arithmetic_operators)\n",
    "    * [1.4.2 比較運算子](#comparison_operators)\n",
    "    * [1.4.3 邏輯運算子](#logical_operators)\n",
    "    * [1.4.4 複合指定運算子](#compound_assignment_operators)\n",
    "    * [1.4.5 運算子優先順序](#operator_precedence)"
   ]
  },
  {
   "cell_type": "markdown",
   "metadata": {},
   "source": [
    "<a id='variables'></a>\n",
    "## 1.1 變數\n",
    "<a id='basic_concept'></a>\n",
    "### 1.1.1 認識變數\n",
    "[回目錄](#HOME)\n",
    "\n",
    "* 當資料儲存於記憶體時，電腦會記住該記憶體的位置（記憶體地址），之後要使用時才可以取出。\n",
    "* 然而，記憶體地址是一個複雜且隨機的數字，例如 65431478629，寫程式的人怎麼可能會記得呢？更何況有很多地址要記憶。\n",
    "* 解決的方法是給予這些地址一個有意義的名稱，取代無意義的數字地址，就可輕鬆取得電腦中的資料了！\n",
    "* 這些取代數字地址的名稱就是「變數」。\n",
    "<img src=\"https://i.imgur.com/M9tRJR2.png\" width=\"500\" height=\"250\" />\n",
    "\n",
    "* 補充：**變數**就是**標籤**，貼在某個記憶體地址上，**記憶體地址**相當於存放東西的**容器**，變數的**值**（可能是**數字**、**文字**或者**符號**）就是**容器裏頭的內容物**。"
   ]
  },
  {
   "cell_type": "markdown",
   "metadata": {},
   "source": [
    "<a id='creat_and_delete'></a>\n",
    "### 1.1.2 建立變數與刪除變數\n",
    "[回目錄](#HOME)\n",
    "\n",
    "* Python 變數建立的語法為：  \n",
    "```python\n",
    "變數名稱 = 變數值\n",
    "```  \n",
    "比如: 用 score 標註成績， `score = 75` 可以代表得 75 分。\n",
    "* 使用變數不必設定資料型態，Python 會根據變數值決定資料型態。\n",
    "    * `a = 123` 資料型態是整數（int）。\n",
    "    * `b = 12.3` 資料型態是浮點數（float）。\n",
    "    * `fruit = 'apple'` 或者 `animal = \"bear\"` 資料型態是字串（string）。  \n",
    "* 變數名稱只能由英文字母（`A-Z, a-z`）數字（`0-9`）和底線符號（`_`）組成，而且開頭只能是英文字母或者是底線符號。\n",
    "    * `ab1c` 和 `_1abc` 都是正確的變數名稱， `abc` 和 `Abc` 則是不同的變數名稱， `1abc` 不是正確的變數名稱。\n",
    "* 如果多個變數具有相同變數值，可以一起指定變數值，例如變數 a、b、c 的值皆為5，其宣告方式為： `a = b = c = 5`。\n",
    "* 也可以在同一條程式碼中指定多個變數，變數名稱之間以 `,` 隔開，變數值之間也以 `,` 隔開。比如： `name, score = \"大雄\", 37`\n",
    "* 如果不再使用某個變數，可以刪除它以節省記憶體。刪除變數的語法為：  \n",
    "```python\n",
    "del 變數名稱\n",
    "```"
   ]
  },
  {
   "cell_type": "code",
   "execution_count": null,
   "metadata": {
    "scrolled": true
   },
   "outputs": [],
   "source": [
    "ab1c = 1.1\n",
    "_1abc = '2哈' # 在 spyder 或者 jupyter notebook 外掛套件的變數表中顯示不出來，因為底線開頭的變數在 python 語言中有特殊意義 \n",
    "abc = '3'\n",
    "Abc = 4.0\n",
    "a = b = c = 5\n",
    "print(ab1c)\n",
    "print(_1abc)\n",
    "print(abc)\n",
    "print(Abc)\n",
    "print(a, b, c)"
   ]
  },
  {
   "cell_type": "code",
   "execution_count": null,
   "metadata": {
    "scrolled": true
   },
   "outputs": [],
   "source": [
    "del b, c"
   ]
  },
  {
   "cell_type": "markdown",
   "metadata": {},
   "source": [
    "<a id='comment'></a>\n",
    "### 1.1.3 程式碼註解\n",
    "[回目錄](#HOME)\n",
    "\n",
    "* 剛才的範例中，你們應該注意到有一小段 `#` 後頭的文字不是程式碼主體，而像是一種說明，我們稱這一小段說明為程式碼的註解。\n",
    "* 註解游離於程式碼之外，卻是程式碼的側記。\n",
    "* 為什麼需要註解呢？主要原因是增加程式碼的可讀性。\n",
    "    * 我們常常取用他人的程式碼，並對程式碼部分改寫，以符合我們的需求。\n",
    "    * 然而，程式碼動輒數百上千行，甚至可能有數十萬行，我們不可能完全看懂別人在寫什麼。此時，註解可以幫助讓我們專注於**重要的段落**。\n",
    "    * 完善的註解、配上規範的程式碼，可以讓我們了解程式碼的整體結構。（**就像清晰的標題與好的文章。**）\n",
    "    * 有時候我們需要深入了解程式碼的細節，適當的註解也會指出潛藏於細節中的魔鬼，協助我們更快速進入情況。\n",
    "    * 就算是程式作者本人，數個月後重看同一段程式碼，也難以快速進入情況，註解可以讓作者本人回憶起程式的用途和程式運作流程。\n",
    "* Python 語法規則中，可在程式碼中加入 `#` ，則在同一行程式碼中， `#` 後頭的文字都不會執行。\n",
    "    * 假如 `#` 放在某行程式碼開頭，則整行程式碼都不會執行。\n",
    "* 有時候，需要的註解文字很長，為每行都加上 `#` 實在麻煩，Python 對此因應的**多行註解**方式為：在註解的區塊**前後都加入三個單引號** \n",
    "`'''`，或者**前後都加入三個雙引號** `\"\"\"`。\n",
    "    * 實際使用上，較長的註解文字包含較多資訊，包含作者、一大段程式碼的用途（比如在函數名稱後面說明此函數的用途）。\n",
    "* **在撰寫程式時儘可能替程式碼加上註解，養成寫程式的好習慣。**"
   ]
  },
  {
   "cell_type": "code",
   "execution_count": null,
   "metadata": {
    "scrolled": true
   },
   "outputs": [],
   "source": [
    "def sum_of_two_numbers(a, b): \n",
    "    \"\"\"這個函式計算了兩數和\n",
    "    輸入的兩個數資料型態必須是整數或者浮點數\n",
    "    否則傳回 False\n",
    "    \"\"\"\n",
    "    if type(a) not in [int, float] or type(b) not in [int, float]:\n",
    "        return False\n",
    "    else:\n",
    "        return a + b\n",
    "\n",
    "# 就算目前看不懂上面的函式語法，看不懂函式的內容，你也根據註解理解函式的行為\n",
    "# 上面那種說明，嚴格來說不稱為註解，正式名稱是 docstring (說明文檔)\n",
    "\n",
    "print(sum_of_two_numbers(1, 2.3))\n",
    "print(sum_of_two_numbers(1, 2.3**2))\n",
    "print(sum_of_two_numbers('小夫', '胖虎'))\n",
    "print(sum_of_two_numbers(1, '2.3'))    "
   ]
  },
  {
   "cell_type": "markdown",
   "metadata": {},
   "source": [
    "<a id='reserved_words'></a>\n",
    "### 1.1.4 變數保留字\n",
    "[回目錄](#HOME)\n",
    "\n",
    "* 變數名稱不能與 Python 內建的保留字相同。\n",
    "* 保留字：讓電腦讀懂 Python 語法必須遵循規則，必須預設一些有特殊功能得英文字。比如說看到 `print`，電腦就知道要「顯示結果」；看到 `int` 就知道是整數；看到 `float` 就知道是浮點數。\n",
    "* 假如變數名稱取成保留字，程式運行很容易出現不合邏輯的結果或錯誤。"
   ]
  },
  {
   "cell_type": "code",
   "execution_count": null,
   "metadata": {},
   "outputs": [],
   "source": [
    "print('底下是正常顯示 \"type(1)==int\" 的結果')\n",
    "print(type(1)==int) # 1的資料型態確實是整數，因此顯示為 True\n",
    "print('若把 int 取做變數名，取值為1，令電腦顯示 \"type(1)==int\" 的結果')\n",
    "int = 1 # 現在把 int 當作變數，令其為 1\n",
    "print(type(1)==int)  # 現在電腦不讀成 \"1的資料型態是否為整數\", 而是讀成 \"1的資料型態是否為1\"，當然不是，因此顯示為 False\n",
    "del int  \n",
    "print('將 int 這個不合規範的變數名稱去掉，重新顯示 \"type(1)==int\" 的結果')\n",
    "print(type(1)==int)"
   ]
  },
  {
   "cell_type": "markdown",
   "metadata": {},
   "source": [
    "* **Python 官方的保留字：**   \n",
    "  內建保留字包含運算子、簡單陳述、複合陳述、定義等，已經被賦予特定意義的字詞。\n",
    "  * `常數`：具有意思的字，例如：`False` (假), `None` (無), `True` (真)。\n",
    "  * `運算子`：代表具邏輯運算的字。\n",
    "  * `簡單陳述`：單獨一行即可陳述的字。\n",
    "  * `複合陳述`：需多行或多個保留字才可陳述的字。\n",
    "  * `定義`：`class` 定義類別，`def` 定義函式。\n",
    " \n",
    "| 種類 | 保留字 |\n",
    "|:--|:--|\n",
    "|**常數**|`False`, `None`, `True`|\n",
    "|**運算子**| `and`, `del`, `in`, `is`, `lambda`, `not`, `or`|\n",
    "|**簡單陳述**|`as`, `assert`, `async`, `await`, `break`, `continue`, `from`, `global`, `import`, `nonlocal`, `pass`, `raise`, `return`, `yield`|\n",
    "|**複合陳述**| `else`, `elif`, `except`, `finally`, `for`, `if`, `try`, `while`, `with`|\t\t\n",
    "|**定義**| `class`, `def`|\t\t\n",
    "\t\t\t\t\n"
   ]
  },
  {
   "cell_type": "code",
   "execution_count": null,
   "metadata": {},
   "outputs": [],
   "source": [
    "# <補充>\n",
    "# 若想查詢保留字(關鍵字)，可用以下方式\n",
    "import keyword\n",
    "keyword.kwlist"
   ]
  },
  {
   "cell_type": "markdown",
   "metadata": {},
   "source": [
    "<a id='data_types'></a>\n",
    "## 1.2 資料型態\n",
    "[回目錄](#HOME)\n",
    "\n",
    "* 電腦可以對變數賦予各種運算，但是要先規定好變數的「資料型態」，電腦才知道如何處理變數間的運算。\n",
    "* 不同的資料型態有不同的記憶體配置，如此才能使運算達到最佳運最效率。\n",
    "* 最常見的資料型態有數值（numeric）和字串（string）。\n",
    "* `type` 命令會取得項目的資料型態，如果使用者不確定某些項目的資料型態，可用 `type` 命令確認，語法為：  \n",
    "`type(項目)`"
   ]
  },
  {
   "cell_type": "markdown",
   "metadata": {},
   "source": [
    "<a id='numeric_types'></a>\n",
    "### 1.2.1 數值型態\n",
    "[回目錄](#HOME)\n",
    "\n",
    "* Python 數值資料型態有整數 `int`、浮點數 `float` 及布林值 `bool`。\n",
    "* 整數：`int`，是指不含小數點的數值。\n",
    "* 浮點數：`float`，是指包含小數點的數值。\n",
    "* 布林值：`bool`，此種資料型態只有兩個值：`True` 及 `False`（注意：T 及 F 是大寫）。\n",
    "    * 此種變數通常是在條件運算中使用，程式可根據布林變數的值判斷要進行何種運作。"
   ]
  },
  {
   "cell_type": "markdown",
   "metadata": {},
   "source": [
    "<a id='string_types'></a>\n",
    "### 1.2.2 字串型態\n",
    "[回目錄](#HOME)\n",
    "\n",
    "* Python 字串資料型態（str）是變數值以一對雙引號 `\"` 或單引號 `'` 包起來，例如：`str1 = \"這是字串\"` 或者 `str1 = '這是字串'`，效果相同。\n",
    "* 如果字串本身要包含引號（雙引號或單引號），可使用另一種引號包住字串，這與中文引號用法相同：  \n",
    "小明說：「昨天我聽到小英說：『昨天我聽到小華說：「大雄談戀愛了。」』」\n",
    "* 若字串需含有特殊字元如 Tab、換行等，可在字串中使用逃脫字元 `\\`。\n",
    "    * 逃脫字元是以 `\\` 為開頭，後面跟著一定格式的字元代表特定意義的特殊字元。\n",
    "* 下表為 Python 常用的逃脫字元：\n",
    "\n",
    "|脫逸字元|意義|脫逸字元|意義|\n",
    "|:--:|:--:|:--:|:--:|\n",
    "|\\\\'|單引號「'」|\\\\\"|雙引號「\"」|\n",
    "|\\\\ \\\\|反斜線「\\」|\\n|換行|\n",
    "|\\r|游標移到列首|\\t|Tab鍵|\n",
    "|\\v|垂直定位|\\a|響鈴|\n",
    "|\\b|後退鍵(Backspace)|\\f|換頁|\n",
    "|\\x|以十六進位表示字元|\\o|以八進位表示字元|\n",
    "\n",
    "\n",
    "* 執行程式時，電腦讀到逃脫字元，就知道**必須另外判讀**。例如：\n",
    "    * 雙引號 `\"` 或者單引號 `'` 在 Python 語法規則中常用來圈出字串，是特殊符號，若我們想要將它們當作一般符號，前頭先打逃脫字元 `\\`，接上單引號或雙引號，電腦就知道：此處必須視為普通符號。\n",
    "    * 反斜線本身就是特殊符號（逃脫字元），所以前面再加一個反斜線，電腦看到 `\\\\`，知道此處視為**單一普通符號**反斜線。\n",
    "    * 至於 Tab 和換行符號，則是**特殊字元**，則用 `\\特定普通字元` 使電腦辨識出來。"
   ]
  },
  {
   "cell_type": "code",
   "execution_count": null,
   "metadata": {},
   "outputs": [],
   "source": [
    "str1 = \"這是字串\"\n",
    "str2 = '這是字串'\n",
    "print(str1)\n",
    "print(str2)\n",
    "print(str1 == str2) # 單引號和雙引號效果相同\n",
    "print()\n",
    "str3 = '\"晴天\"'\n",
    "str4 = \"'晴天'\" \n",
    "print(str3)\n",
    "print(str4)\n",
    "print(str3 == str4) # 字串裡面的單引號和雙引號在此是普通符號，就字串本身， \"晴天\" 與 '晴天' 是不同的。\n",
    "print()\n",
    "str5 = '\\'晴天\\''\n",
    "print(str5)\n",
    "print(str5 == str4) # 在單引號內利用逃脫字元作出字串 '晴天' "
   ]
  },
  {
   "cell_type": "code",
   "execution_count": null,
   "metadata": {
    "scrolled": true
   },
   "outputs": [],
   "source": [
    "print('1 的資料型態是數值型態中的整數: ', end='') # print是輸出命令, end='' 則是要求不換行（不打這個就是遵照「換行」的預設值）\n",
    "print(type(1)) # class 是類別，因為每種資料型態都是某一種類別\n",
    "\n",
    "print('↑↑↑↑↑↑ 注意 1 和 1.0 的差別 ↓↓↓↓↓↓') # 沒有打 end='' 因此這裡印出會換行\n",
    "print('1.0 的資料型態是數值形態中的浮點數: ', end='')\n",
    "print(type(1.0))\n",
    "print() # 強迫多換一行\n",
    "print('注意當用引號時，不管是 1 或者 1.0 都不再是數值型態，而是字串型態：')\n",
    "print(\"'1' 的資料型態是字串型態: \", end='') # 注意這裡是雙引號包含單引號\n",
    "print(type('1'))\n",
    "print('\"1.0\" 的資料型態也是字串型態: ', end='') # 注意這裡是單引號包含雙引號\n",
    "print(type(\"1.0\"))\n",
    "print(\"\\n\") # '\\n' 電腦會理解成換行，print預設結尾就是換行，因此這裡會換兩行\n",
    "print(\"也可以問某個已經取值的變數的資料型態：\")\n",
    "a = 2\n",
    "print(\"a 已經取值為 2, a 的資料型態是: \", end=\"\")\n",
    "print(type(a))\n",
    "\n",
    "print('\\n') # 程式碼空一行，不影響輸出結果，只影響人類的閱讀。此處輸出結果依然是空兩行\n",
    "print('特殊資料型態: True 或 False 也是 Python 保留字，它們的資料型態都是布林值。')\n",
    "print('True 的資料型態是 ', end='')\n",
    "print(type(True)) # 注意字首要大寫\n",
    "print('False 的資料型態也是 ', end='')\n",
    "print(type(False))\n",
    "\n",
    "print()\n",
    "print('布林值也有數值，True 為 1， False 為0')\n",
    "print(2.5 + True)\n",
    "print(1.3 + False)"
   ]
  },
  {
   "cell_type": "markdown",
   "metadata": {},
   "source": [
    "<a id='type_coversion'></a>\n",
    "### 1.2.3 資料型態轉換\n",
    "[回目錄](#HOME)\n",
    "\n",
    "* Python 具有簡單的資料型態自動轉換功能：如果是整數與浮點運算，系統會先將整數轉換為浮點數再運算，運算結果為浮點數。\n",
    "* 如果系統無法自動進行資料型態轉換，就需以資料型態轉換命令強制轉換。Python 強制資料型態轉換命令有：\n",
    "    * `int()`：強制轉換為整數資料型態。\n",
    "    * `float()`：強制轉換為浮點數資料型態。\n",
    "    * `str()`：強制轉換為字串資料型態。"
   ]
  },
  {
   "cell_type": "code",
   "execution_count": null,
   "metadata": {},
   "outputs": [],
   "source": [
    "a = 12\n",
    "b = 0.75\n",
    "print(type(a+b))\n",
    "print(type(a-b))\n",
    "print(type(a*b))\n",
    "print(type(a/b))\n",
    "\n",
    "print()\n",
    "c = float(a)\n",
    "print(c)\n",
    "print(type(c))\n",
    "\n",
    "d = int(b)\n",
    "print(d)\n",
    "print(type(d))\n",
    "\n",
    "print()\n",
    "print(int(-3.2))\n",
    "print(int(-3.7))\n",
    "\n",
    "print()\n",
    "e = '1'\n",
    "f = str(1)\n",
    "print(e == f)"
   ]
  },
  {
   "cell_type": "markdown",
   "metadata": {},
   "source": [
    "<a id='output_and_input'></a>\n",
    "## 1.3 輸出與輸入\n",
    "[回目錄](#HOME)\n",
    "\n",
    "* 輸出與輸入是任何程式語言的基本功能。\n",
    "    * 執行完程式碼，必須將程式碼輸出（在螢幕上）讓我們查看。\n",
    "    * 許多程式必須使用輸入資料，作為後續處理的依據。"
   ]
  },
  {
   "cell_type": "markdown",
   "metadata": {},
   "source": [
    "<a id='print'></a>\n",
    "### 1.3.1 print 輸出\n",
    "[回目錄](#HOME)\n",
    "\n",
    "* print 命令能列印指定項目的內容，語法為：  \n",
    "`print(項目1,　項目2,……, sep=分隔字元,　end=結束字元)`\n",
    "    * `項目1, 項目2,……`：`print` 命令可以一次輸出多個項目資料，項目之間以逗號 `,` 分開。\n",
    "    * `sep`：分隔字元，如果列印多個項目，項目之間以分隔符號區隔，可以省略，預設值為一個空白字元 ` `。\n",
    "    * `end`：結束字元，列印完畢後自動加入的字元，可以省略，預設值為換列字元 `\\n`，所以下一次執行 print 命令會列印在下一列。"
   ]
  },
  {
   "cell_type": "code",
   "execution_count": null,
   "metadata": {},
   "outputs": [],
   "source": [
    "print(1+1)\n",
    "print('不換行', end='')\n",
    "print('直接黏在一起')\n",
    "print(\"apple\", 1, 2)\n",
    "print(\"banana\", 3, 4, sep='&', end='\\t')\n",
    "print('cherry', 5, 6, sep='\\\\', end='\\n')\n",
    "print(7, 8.00, 9, sep='\\t')"
   ]
  },
  {
   "cell_type": "markdown",
   "metadata": {},
   "source": [
    "* **舊版 Python 語法：`%-formatting`**  \n",
    " print 命令支援字串格式化功能，語法為：  \n",
    "`print(項目　% (參數列))`\n",
    "* 參數列：以 `%s` 代表字串、`%d` 代表整數、`%f` 代表浮點數，字串格式化方式可以精確控制列印位置，讓輸出的資料整齊排列，例如：\n",
    "    * `%6d`：固定列印 6 個字元，若少於 6 位數，會在數字左方填入空白字元(若大於 6 位數則會全部列印)。\n",
    "    * `%6s`：固定列印 6 個字元，若字串少於 6 個字元，會在字串左方填入空白字元 (若大於 6 個字元則會全部列印)。\n",
    "    * `%8.2f`：固定列印 8 個字元 (含小數點)，小數固定列印 2 位數。若整數少於 5 位數 (8-3=5)，會在數字左方填入空白字元；若小數少於 2 位數，會在數字右方填入 `0` 字元。"
   ]
  },
  {
   "cell_type": "code",
   "execution_count": null,
   "metadata": {},
   "outputs": [],
   "source": [
    "print(\"%s的成績是%d分\" % (\"小明\",80))\n",
    "print(\"%5s的成績是%3d分\" %(\"小英\",90))\n",
    "print(\"%-5s的成績是%-3d分\" % (\"小華\",90))\n",
    "print(\"我的BMI:%.1f啦\" % 19)\n",
    "print(\"我的BMI: %.2f啦\" % (18+1)) # 注意冒號後面本來就有一個空白字元\n",
    "print(\"我的BMI:%6.2f啦\" % (19.0))\n",
    "print(\"我的BMI:%-6.2f啦\" % (19.0)) \n",
    "\n",
    "name, score = \"大雄\", 37\n",
    "print(\"%s的成績是%d分\" %(name,score))"
   ]
  },
  {
   "cell_type": "markdown",
   "metadata": {},
   "source": [
    "* **新版 Python 語法：`str.format`**  \n",
    "字串的 format 方法也可將輸出資料格式化，以一對大括號 `{}` 表示參數的位置，語法為：  \n",
    "`print(字串.format(參數列))`\n",
    "* 字串裡面有 `{}`, 參數列對字串的 `{}` 作出描述：\n",
    "    * `{}`：參數位置，多個 `{}` 預設要以後方參數順序為準\n",
    "    * `{i}`：指定插入參數的索引值，如 `{0}` 代表第1個\n",
    "    * `{i:格式化指定}`：參考 `%` 的格式化指定，但是，字串留空位置不一樣，請見底下範例。\n",
    "    * 參考 [這個網址](https://www.python-course.eu/python3_formatted_output.php) 有更完整的說明。\n",
    "    * 對於留空位置，可以用 `<` 表示靠左對齊， `>` 表示靠右對齊， `^` 表示靠中間，比如 {:<5} 表示預留 5 個位置，對齊左邊，因此留空在右邊。"
   ]
  },
  {
   "cell_type": "code",
   "execution_count": null,
   "metadata": {
    "scrolled": true
   },
   "outputs": [],
   "source": [
    "print(\"本班{}成績為{:4}分\".format(\"大雄\", 37)) # 預設順序\n",
    "print(\"本班{1:3}是{0:5}的成績\".format(\"大雄\", 37)) # 刻意反序，注意：預設情況下，數字留空在前，字串留空在後\n",
    "print('本班%3d是%5s的成績' % (37, '大雄'))  # 注意：這是舊版 Python 語法，比較與新板 Python 語法對字串的留空位置\n",
    "print(\"本班{:<3}是{:^6}的成績\".format(\"大雄\", 37)) # 可控制留空位置\n",
    "print(\"本班{0:5}成績為{1:.2f}分\".format(\"大雄\", 37)) "
   ]
  },
  {
   "cell_type": "code",
   "execution_count": null,
   "metadata": {},
   "outputs": [],
   "source": [
    "print(\"姓名    座號   國文  數學  英文\") # 這個例子在顯示中文不易對齊\n",
    "print('%s  %2d  %4d  %4d  %4d' % ('公孫珣  ', 1, 100, 87, 20))\n",
    "print('{}  {:2}  {:4}  {:4}  {:4}'.format('寧立恆  ', 2, 89, 88, 80))\n",
    "print('{}  {:2}  {:4}  {:4}  {:4}'.format('薄靳言  ', 3, 75, 95, 95))"
   ]
  },
  {
   "cell_type": "markdown",
   "metadata": {},
   "source": [
    "* **最新版 Python 語法：`f-strings`（推薦）**  \n",
    "上面兩種 Python 字串格式化方式當處理多個引數或更長字串時，程式碼顯得冗長，而 `f-string` 可以避免這個現象。\n",
    "* `f-strings` 使用方法為在字串前加上 `f` (或 `F` )，具體表達式為：  \n",
    "`f'字串'` 或 `f\"字串\"`\n",
    "  * `字串` 中包含 `{expression}`，可以加入 Python 的運算值。\n",
    "  * `字串` 中有`{}`同樣可以使用 format 進行格式化設定，請見下列範例。\n",
    "  * 參考 [此網址](https://www.python.org/dev/peps/pep-0498/)，此為 Python 文件檔。"
   ]
  },
  {
   "cell_type": "code",
   "execution_count": null,
   "metadata": {},
   "outputs": [],
   "source": [
    "name = '小明'\n",
    "grade = 95\n",
    "print(f'{name}期末考平均成績為{grade}分')\n",
    "print(f'{name:4s}期末考平均成績為{grade:4d}分') # 同樣可以在\":\"後可以加上s, d, f對欄位做設定\n",
    "print(f'{name}期末考平均成績為{grade:5.2f}分')"
   ]
  },
  {
   "cell_type": "code",
   "execution_count": null,
   "metadata": {},
   "outputs": [],
   "source": [
    "fruit = 'Apple'\n",
    "price = 45\n",
    "number = 5\n",
    "print(f'{fruit.upper()}價格：{price:3d}元') # 可加上函式用法\n",
    "print(f'{number}個{fruit.lower()}價格：{price*number}元') # 簡單運算式\n",
    "\n",
    "# 字典後續第六講會提到，可以回來看 f-string 用法\n",
    "discount = 0.5\n",
    "special_offer = {'fruit': 'apple', 'price': price*discount}\n",
    "print(f\"{special_offer['fruit']}價格：{special_offer['price']}元\")"
   ]
  },
  {
   "cell_type": "code",
   "execution_count": null,
   "metadata": {},
   "outputs": [],
   "source": [
    "# Python 3.8 加入新捷徑，方便印出變數名稱與其值，這在除錯時很好用。\n",
    "fruit = 'Apple'\n",
    "season = 'winter'\n",
    "price = 25\n",
    "print(f'{fruit = }, {season = }') # 在{}中加入 = ，可以印出字面外觀\n",
    "print(f'{fruit = }, {price = }')\n",
    "print(f'{fruit[:4] =}, {season.title() = :>5.3}') # 同樣可以做很多變化"
   ]
  },
  {
   "cell_type": "markdown",
   "metadata": {},
   "source": [
    "<a id='input'></a>\n",
    "### 1.3.2 input 輸入\n",
    "[回目錄](#HOME)\n",
    "\n",
    "* input 命令的語法為：  \n",
    "`變數 = input([提示字串])`\n",
    "* 「提示字串」顯示一段提示訊息，告知使用者如何輸入。\n",
    "* 輸入資料時，當使用者按下 Enter 鍵後就視為輸入結束，`input` 命令會將使用者輸入的資料存入變數中。\n",
    "* **輸入資料的型態限定為字串**！\n",
    "* 初學者最容易產生的錯誤是當使用者輸入數字型態的資料時，程式設計者會將其視為數值資料型態而直接進行數值運算，於是發生資料型態不符合的錯誤。"
   ]
  },
  {
   "cell_type": "code",
   "execution_count": null,
   "metadata": {
    "scrolled": true
   },
   "outputs": [],
   "source": [
    "score = input(\"請輸入國文成績:\")\n",
    "print(type(score))\n",
    "print(f'你的國文分數是：{score}')"
   ]
  },
  {
   "cell_type": "code",
   "execution_count": null,
   "metadata": {
    "scrolled": true
   },
   "outputs": [],
   "source": [
    "#資料型態錯誤\n",
    "scoreA = input(\"請輸入國文成績:\")\n",
    "scoreB = input(\"請輸入英文成績:\")\n",
    "scoreC = input(\"請輸入數學成績:\")\n",
    "total = scoreA + scoreB + scoreC\n",
    "print(type(total))\n",
    "print(f\"你的總分數是：{total}\")"
   ]
  },
  {
   "cell_type": "code",
   "execution_count": null,
   "metadata": {},
   "outputs": [],
   "source": [
    "#使用 int(), str()\n",
    "scoreA = int(input(\"請輸入國文成績:\"))\n",
    "scoreB = int(input(\"請輸入英文成績:\"))\n",
    "scoreC = int(input(\"請輸入數學成績:\"))\n",
    "total = scoreA + scoreB + scoreC\n",
    "print(type(total))\n",
    "# print(\"你的總分數是：\" + total) # 執行這一行指令會出現錯誤訊息，因為字串不能與整數相加\n",
    "print(\"你的總分數是：\" + str(total)) #若用此方式，則須將整數轉換為字串才可相加 \n",
    "print(f\"你的總分數是：{total}\") # 若使用 f-strings 則無此問題"
   ]
  },
  {
   "cell_type": "code",
   "execution_count": null,
   "metadata": {},
   "outputs": [],
   "source": [
    "top = float(input(\"請輸入梯形上底長度：\"))\n",
    "bottom = float(input(\"請輸入梯形下底長度：\"))\n",
    "height = float(input(\"請輸入梯形高度：\"))\n",
    "area = (top + bottom) * height / 2\n",
    "print(f\"梯形的面積為：{area}\")"
   ]
  },
  {
   "cell_type": "markdown",
   "metadata": {},
   "source": [
    "<a id='expressions'></a>\n",
    "## 1.4 運算式\n",
    "[回目錄](#HOME)\n",
    "\n",
    "*　用來指定資料做哪一種運算的是「運算子」，進行運算的資料稱為「運算元」。例如：`2 + 3` 中的 `+` 是運算子，`2` 及 `3` 是運算元。\n",
    "* 運算子依據運算元的個數分為「單元運算子」及「二元運算子」。\n",
    "    * 單元運算子：只有一個運算元，例如 `-100` 中的 `-`（負）、`not x` 中的 `not` 等，單元運算子是位於運算元的左方。\n",
    "    * 二元運算子：具有兩個運算元，例如 `100 - 30` 中的 `-`（減）、 `x and y` 中的 `and` ，二元運算子是位於兩個運算元的中間。"
   ]
  },
  {
   "cell_type": "markdown",
   "metadata": {
    "jupyter": {
     "source_hidden": true
    }
   },
   "source": [
    "#### <a id='arithmetic_operators'></a>\n",
    "### 1.4.1 算術運算子\n",
    "[回目錄](#HOME)\n",
    "\n",
    "* 用於執行一般數學運算的運算子稱為「算術運算子」。\n",
    "\n",
    "|運算子|意義|範例|範例結果|\n",
    "|:--|:--:|:--|--|\n",
    "|+|兩運算元相加|12+3|15|\n",
    "|-|兩運算元相減|12-3|9|\n",
    "|\\*|兩運算元相乘|12\\*3|36|\n",
    "|/|兩運算元相除|32/5|6.4|\n",
    "|%|取得餘數|32%5|2|\n",
    "|//|取得整除的商數|32//5|6|\n",
    "|**|（運算元1）的（運算元2）次方|7**2|49|\n",
    "\n",
    "* 運算子 `+` 可用於數值運算，也可用於字串組合，使用時需特別留意運算元的資料型態。\n",
    "    * `+` 用於數值運算時是計算兩個運算元的總和。\n",
    "    * `+` 用於字串組合時是將兩個運算元的字元組合在一起。\n",
    "    * 上面的程式執行結果應該可以看出來。"
   ]
  },
  {
   "cell_type": "code",
   "execution_count": null,
   "metadata": {
    "scrolled": true
   },
   "outputs": [],
   "source": [
    "# 數值運算\n",
    "a = 17\n",
    "b = 3\n",
    "print(a / b)  # 除\n",
    "print(a % b)  # 餘數\n",
    "print(a // b) # 商數\n",
    "print(a ** b) # 指數"
   ]
  },
  {
   "cell_type": "code",
   "execution_count": null,
   "metadata": {
    "scrolled": true
   },
   "outputs": [],
   "source": [
    "# 字串運算\n",
    "s = \"abcdefg\"\n",
    "print(s+s+s)\n",
    "print(s*3)\n",
    "print('---')\n",
    "print(s[0])\n",
    "print(s[1:5])\n",
    "print(s[:])\n",
    "print(s[1:])\n",
    "print(s[:1])\n",
    "print('---')\n",
    "print(s[:-1])\n",
    "print(s[2:-2])\n",
    "print(s[5:2])\n",
    "print('---')"
   ]
  },
  {
   "cell_type": "markdown",
   "metadata": {},
   "source": [
    "<a id='comparison_operators'></a>\n",
    "### 1.4.2 比較運算子\n",
    "[回目錄](#HOME)\n",
    "\n",
    "* 比較運算子會比較兩個運算式，若比較結果正確，就傳回 `True`，若比較結果錯誤，就傳回 `False`。設計者可根據比較結果，進行不同處理程序。\n",
    "\n",
    "|運算子|意義|範例|範例結果|\n",
    "|:--|:--:|:--:|--:|\n",
    "|==|運算式1是否等於運算式2|(6+9==2+13) <br> (8+9==2+13)|True <br> False|\n",
    "|!=|運算式1是否不等於運算式2|(8+9!=2+13) <br> (6+9!=2+13)|True <br> False|\n",
    "|>|運算式1是否大於運算式2|(8+9>2+13) <br> (6+9>2+13)|True <br> False|\n",
    "|<|運算式1是否小於運算式2|(5+9<2+13) <br> (8+9<2+13)|True <br> False|\n",
    "|>=|運算式1是否大於或等於運算式2|(6+9==2+13) <br> (3+9>=2+13)|True <br> False|\n",
    "|<=|運算式1是否小於或等於運算式2|(3+9<=2+13) <br> (8+9<=2+13)|True <br> False|\n",
    "\n",
    "* **注意**：比較兩個對象是否相等要打 `==`，若只打 `=`，比如 `a = 55`，意思是將 a 的值**指定成** 55， 不是一個布林值（True or False）"
   ]
  },
  {
   "cell_type": "code",
   "execution_count": null,
   "metadata": {},
   "outputs": [],
   "source": [
    "# 比較運算\n",
    "\n",
    "x = 3\n",
    "y = 4\n",
    "a = (x<y) # 括號可以拿掉，但是加上去比較好讀\n",
    "b = (x<=y) \n",
    "c = (x!=y)\n",
    "d = (x==y)\n",
    "# e = (x=y) # 執行這一行會出現錯誤訊息\n",
    "\n",
    "print(\"a 的值為\", a, \"資料型態是\", type(a))\n",
    "print(\"b 的值為\", b, \"資料型態是\", type(b))\n",
    "print(\"c 的值為\", c, \"資料型態是\", type(c))\n",
    "print(\"d 的值為\", d, \"資料型態是\", type(d))\n",
    "\n",
    "print('\\n注意 == 和 = 的區別：')\n",
    "print(x==x+5)\n",
    "x = x + 5 # 將 x（標籤） 的值（容器裝的內容）取成　x（原本值是3）+5，因此新的值是 8\n",
    "print(x)"
   ]
  },
  {
   "cell_type": "markdown",
   "metadata": {},
   "source": [
    "<a id='logical_operators'></a>\n",
    "### 1.4.3 邏輯運算子\n",
    "[回目錄](#HOME)\n",
    "* 邏輯運算子通常是結合多個比較運算式來綜合得到最終比較結果，用於較複雜的比較條件。\n",
    "\n",
    "|運算子|意義|範例|範例結果|\n",
    "|:--|:---:|:--:|--:|\n",
    "|not|傳回與原來比較結果相反的值，<br>即比較結果是True，就傳回False；<br>比較結果是False，就傳回True。<br>|not(3>5)<br>not(5>3)|True<br>Flase|\n",
    "|and|只有兩個運算元的比較結果都是True時，<br>才傳回True，<br>其餘情況皆傳回False。<br>|(5>3)and(9>6)<br>(5>3)and(9<6)<br>(5<3)and(9<6)<br>(5>3)and(9<6)|True<br>False<br>False<br>False|\n",
    "|or|只有兩個運算元的比較結果都是False時，<br>才傳回False，<br>其餘情況皆傳回True。|(5>3)or(9>6)<br>(5>3)or(9<6)<br>(5<3)or(9>6)<br>(5<3)or(9<6)|True<br>True<br>True<br>False|"
   ]
  },
  {
   "cell_type": "code",
   "execution_count": null,
   "metadata": {},
   "outputs": [],
   "source": [
    "a = 3<5 # True\n",
    "b = 2>4 # False\n",
    "c = 1!=7 # True\n",
    "\n",
    "print(not a)\n",
    "print(a or b)\n",
    "print(a and b)\n",
    "print(a and (not b))\n",
    "print((not a or b) and c)"
   ]
  },
  {
   "cell_type": "markdown",
   "metadata": {},
   "source": [
    "<a id='compound_assignment_operators'></a>\n",
    "### 1.4.4 複合指定運算子\n",
    "[回目錄](#HOME)\n",
    "\n",
    "* 複合指定運算子就是為簡化此種敘述產生的運算子，將運算子置於 `=` 前方來取代重複的變數名稱。例如：\n",
    "    * `i += 2` 表示 `i = i + 2`\n",
    "    * `i -= 2` 表示 `i = i - 2`\n",
    "\n",
    "* 複合指定運算子同時做了「執行運算」及「指定」兩件工件。\n",
    "* 下表是以 `i` 變數值為 10 來計算範例結果：\n",
    "\n",
    "|運算子|意義|範例|範例結果|\n",
    "|:--|:--:|:--:|--|\n",
    "|+=|相加後再指定給原變數|i += 5|15|\n",
    "|-=|相減後再指定給原變數|i -= 5|5|\n",
    "|\\*=|相乘後再指定給原變數|i *= 5|50|\n",
    "|/=|相除後再指定給原變數|i /= 5|2.0|\n",
    "|%=|相除得到餘數後再指定給原變數|i %= 5|0|\n",
    "|//=|相除得到整數商數後再指定給原變數|i //= 5|2|\n",
    "|\\**=|做指數運算後再指定給原變數|i **= 3|1000|"
   ]
  },
  {
   "cell_type": "code",
   "execution_count": null,
   "metadata": {},
   "outputs": [],
   "source": [
    "\"\"\"\n",
    "範例：\n",
    "小明每個月初存入 10000 元進銀行，年利率 1.2%, 每月利息一次。\n",
    "請問半年後提出來，金額變成多少\n",
    "中學解法: \n",
    "年利率 1.2%, 月利率 0.1%,\n",
    "第一個月初存入 10000 元, 一個月後變成 10000*(1+0.1%) = 10000*1.001 元\n",
    "第二個月初又存入 10000 元，兩個月後變成 (10000*1.001 + 10000)*1.001 元 = 10000*1.001^2 + 10000*1.001\n",
    "以此類推\n",
    "\"\"\"\n",
    "\n",
    "# 方法 1\n",
    "x0 = 10000\n",
    "r = 1.001\n",
    "x1 = x0 * r\n",
    "x2 = (x1 + x0) * r\n",
    "x3 = (x2 + x0) * r\n",
    "x4 = (x3 + x0) * r\n",
    "x5 = (x4 + x0) * r\n",
    "x6 = (x5 + x0) * r\n",
    "print(x6)\n",
    "\n",
    "# 方法 2\n",
    "savings = 10000\n",
    "y = 0\n",
    "r = 1.001\n",
    "y = (y + savings) * r\n",
    "y = (y + savings) * r\n",
    "y = (y + savings) * r\n",
    "y = (y + savings) * r\n",
    "y = (y + savings) * r\n",
    "y = (y + savings) * r\n",
    "print(y)\n",
    "\n",
    "# 方法 3  (用到幾堂課後的迴圈)\n",
    "savings = 10000\n",
    "z = 0\n",
    "r = 1.001\n",
    "for month in range(6):\n",
    "    z += savings\n",
    "    z *= r\n",
    "print(z)"
   ]
  },
  {
   "cell_type": "markdown",
   "metadata": {},
   "source": [
    "<a id='operator_precedence'></a>\n",
    "### 1.4.5 運算子優先順序\n",
    "[回目錄](#HOME)\n",
    "\n",
    "* 下表為常見運算子的優先順序：\n",
    "* 優先順序高（數字較小）者先執行運算，同一列中的運算子具有相同的優先順序，優先順序相同時是由左至右運算。\n",
    "\n",
    "|優先順序|運算子|\n",
    "|:--|:--:|\n",
    "|0|()小括號|\n",
    "|1|\\*\\*次方|\n",
    "|2|+正數、-負數|\n",
    "|3|\\*乘法、/除法、%取餘數、//取商|\n",
    "|4|+加法、-減法|\n",
    "|5|==、!=、>、<、>=、<=|\n",
    "|6|not|\n",
    "|7|and|\n",
    "|8|or|\n",
    "|9|=、+=、-=、\\*=、/=、%=、//=、\\*\\*=|\n",
    "\n",
    "* **假如你不確定優先順序，其實用適當用括弧即可。**\n",
    "    * 比如說：你不確定「是否先乘除後加減」（是的！），你希望 `1+2*4` 的執行結果是 9，那麼程式碼寫成 `1+(2*4)` 也行。\n"
   ]
  }
 ],
 "metadata": {
  "kernelspec": {
   "display_name": "Python 3 (ipykernel)",
   "language": "python",
   "name": "python3"
  },
  "language_info": {
   "codemirror_mode": {
    "name": "ipython",
    "version": 3
   },
   "file_extension": ".py",
   "mimetype": "text/x-python",
   "name": "python",
   "nbconvert_exporter": "python",
   "pygments_lexer": "ipython3",
   "version": "3.9.15"
  },
  "toc": {
   "base_numbering": 1,
   "nav_menu": {},
   "number_sections": true,
   "sideBar": true,
   "skip_h1_title": false,
   "title_cell": "Table of Contents",
   "title_sidebar": "Contents",
   "toc_cell": false,
   "toc_position": {},
   "toc_section_display": true,
   "toc_window_display": false
  },
  "varInspector": {
   "cols": {
    "lenName": 16,
    "lenType": 16,
    "lenVar": 40
   },
   "kernels_config": {
    "python": {
     "delete_cmd_postfix": "",
     "delete_cmd_prefix": "del ",
     "library": "var_list.py",
     "varRefreshCmd": "print(var_dic_list())"
    },
    "r": {
     "delete_cmd_postfix": ") ",
     "delete_cmd_prefix": "rm(",
     "library": "var_list.r",
     "varRefreshCmd": "cat(var_dic_list()) "
    }
   },
   "oldHeight": 230.398,
   "position": {
    "height": "40px",
    "left": "993px",
    "right": "20px",
    "top": "-36px",
    "width": "350px"
   },
   "types_to_exclude": [
    "module",
    "function",
    "builtin_function_or_method",
    "instance",
    "_Feature"
   ],
   "varInspector_section_display": "none",
   "window_display": false
  }
 },
 "nbformat": 4,
 "nbformat_minor": 4
}
