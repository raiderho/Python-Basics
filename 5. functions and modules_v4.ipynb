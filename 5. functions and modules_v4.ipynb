{
 "cells": [
  {
   "cell_type": "markdown",
   "metadata": {},
   "source": [
    "# Teacher\n",
    "> **何思賢**     \n",
    "shho@fcu.edu.tw  \n",
    "如需請益，務必事先以 email 聯繫，確認時間。  "
   ]
  },
  {
   "cell_type": "markdown",
   "metadata": {},
   "source": [
    "<a id='HOME'></a>\n",
    "# 5. Functions and Modules\n",
    "## 函式與模組\n",
    "\n",
    "* [5.1 函式 (Function)](#functions)\n",
    "    * [5.1.1 自訂函式](#def_functions)\n",
    "    * [5.1.2 參數預設值](#default_values)\n",
    "    * [5.1.3 區域變數與全域變數](#local_variables_and_global_variables)\n",
    "    * [5.1.4 函式命名指引](#function_naming_guidelines)\n",
    "* [5.2 數值函式](#numeric_functions)\n",
    "    * [5.2.1 數值函式列表](#numeric_functions_table)\n",
    "    * [5.2.2 指數、商數、餘數以及近似值](#pow_divmod_and_round)  \n",
    "    * [5.2.3 最大值、最小值、總和](#max_min_sum)\n",
    "* [5.3 字串函式](#string_functions)\n",
    "    * [5.3.1 字串函式列表](#string_functions_table)\n",
    "    * [5.3.2 分割及連接字串](#split_and_join)\n",
    "    * [5.3.3 檢查起始及結束字串](#startswith_and_endswith)\n",
    "    * [5.3.4 搜尋及取代字串](#find_and_replace_)\n",
    "    * [5.3.5 移除字串左邊或右邊的特定字元](#lstrip_rstrip_and_strip)\n",
    "    * [5.3.6 綜合範例：找錢問題](#make_change)\n",
    "* [5.4 模組 (Module)](#modules)\n",
    "    * [5.4.1 import 模組](#import_modules)\n",
    "    * [5.4.2 亂數模組的函式列表](#random_module_functions_table)\n",
    "    * [5.4.3 產生隨機整數或浮點數](#randint_randrange_random_and_uniform)\n",
    "    * [5.4.4 隨機取得字串字元或串列元素](#choice_and_sample)\n",
    "* [5.5 時間模組](#time_module)\n",
    "    * [5.5.1 時間模組的函式列表](#time_module_functions_table)\n",
    "    * [5.5.2 取得時間訊息](#time_localtime_and_ctime)"
   ]
  },
  {
   "cell_type": "markdown",
   "metadata": {},
   "source": [
    "<a id='functions'></a>\n",
    "## 5.1 函式 (Function)\n",
    "\n",
    "* 在一個較大型的程式中，通常會將具有**特定功能**或**經常使用**的程式碼，獨立出一個小單元，稱為「函式」。\n",
    "* 我們會賦予函式一個名稱，當程式需要時就可以呼叫該函式執行。\n",
    "* 使用函式的程式設計方式具有下列的好處：\n",
    "    * 將大程式切割後由多人撰寫，有利於團隊分工，可縮短程式開發的時間。\n",
    "    * 可縮短程式的長度，程式碼也可重複使用，當再開發類似功能的產品時，只需稍微修改即可以套用。\n",
    "    * 程式可讀性高，易於除錯和維護。"
   ]
  },
  {
   "cell_type": "markdown",
   "metadata": {},
   "source": [
    "<a id='def_functions'></a>\n",
    "### 5.1.1 自訂函式\n",
    "[回目錄](#HOME)\n",
    "\n",
    "* Python 是以 `def` 命令建立函式，不但可以傳送多個參數給函式，執行完函式後也以傳回多個值。自行建立函式的語法為：  \n",
    "```python\n",
    "def 函式名稱(參數值1, 參數值2, ...):\n",
    "    程式區塊  \n",
    "    return 傳回值1, 傳回值2, ...\n",
    "```\n",
    "\n",
    "\n",
    "* `參數值1, 參數值2, ...`：可以傳送一個或多個參數讓函式執行，也可以不傳送參數。呼叫函式後，函式根據傳遞進來的參數值運作，如果有多個參數，則參數之間必須用逗號 `,` 分開。\n",
    "    * 若沒有參數值，函式後面的`()` 還是不能省略。\n",
    "* `傳回值1, 傳回值2, ...` ：傳回值可以有一個或多個，也可以沒有傳回值。傳回值是執行完函式後傳回主程式的資料，若有多個傳回值，則傳回值之間必須用逗號 `,` 分開。\n",
    "    * 若沒有傳回值，傳回那一行寫成 `return None`，也可以省略整行 `return`。\n",
    "    * 若有多個傳回值，以 `tuple` 型態傳回主程式。\n",
    "\n",
    "\n",
    "* 函式建立後不會執行，必須**在主程式中呼叫函式，才會執行函式**。呼叫函式的語法為：  \n",
    " `函式名稱(參數)`  \n",
    " 而我們使用函式的傳回值進一步做事情，這個傳回值就是呼叫函式的執行結果：  \n",
    "`變數 = 函式名稱(參數)`  \n",
    " 上面的變數就是傳回值。\n",
    "    * 若函數沒有傳回值，則通常會省略 `變數 =`。（若是硬寫`變數 =`，則這個`變數`實際上為 `None`。）\n",
    "    \n",
    "* 若有多個傳回值，比如說三個，則要嘛寫三個變數來收傳回值，以 `,` 隔開，按順序一一對應；  \n",
    "要嘛只用一個變數統一收取，若無資料型態轉換，這個變數是一個元組 (tuple)，如下：  \n",
    "    `變數1, 變數2, 變數3 = 函式名稱(參數)`  \n",
    "    或  \n",
    "    `元組 = 函式名稱(參數)`"
   ]
  },
  {
   "cell_type": "code",
   "execution_count": null,
   "metadata": {
    "scrolled": true
   },
   "outputs": [],
   "source": [
    "# 沒有參數，也沒有傳回值的函式\n",
    "def say_hello():\n",
    "    print('Hello!')\n",
    "\n",
    "# 主程式\n",
    "\n",
    "say_hello() # 若不執行這行，不會印出 \"Hello!\"\n",
    "\n",
    "print()\n",
    "print(say_hello()) # 若自訂函式沒寫傳回值，實際上是傳回 None，但是傳回 None 前會先輸出 Hello!\n",
    "\n",
    "print()\n",
    "what = say_hello() # 若硬寫一個變數去收傳回值，這個變數資料型態是 NoneType，值為 None，注意：會輸出 Hello!\n",
    "print(type(what), what)"
   ]
  },
  {
   "cell_type": "code",
   "execution_count": null,
   "metadata": {
    "scrolled": true
   },
   "outputs": [],
   "source": [
    "# 實際寫程式時，函式第一行常用註解說明函式的運作\n",
    "\n",
    "def get_area(width, height):\n",
    "    \"\"\"給定矩形的的寬與高，函式傳回矩形的面積\"\"\"\n",
    "    area = width * height\n",
    "    return area\n",
    "\n",
    "# 主程式\n",
    "\n",
    "print(get_area(4, 7))\n",
    "\n",
    "area = get_area(6, 5)\n",
    "print(area)"
   ]
  },
  {
   "cell_type": "code",
   "execution_count": null,
   "metadata": {},
   "outputs": [],
   "source": [
    "# 自訂 operations 函式，本例顯示函式傳回值可以搭配判斷式而有不同模式\n",
    "\n",
    "def operations(a, b):\n",
    "    \"\"\"計算兩數的加減乘除後的和差積商，若第二個數是 0，則不傳回商\"\"\"\n",
    "    if b !=0 :\n",
    "        print(f'您輸入的數是 {a} 與 {b}，本函式傳回兩數的和差積商。')\n",
    "        return a + b, a - b, a * b, a / b  \n",
    "    else:\n",
    "        print(f'您輸入的數是 {a} 與 {b}，因為第二個數為零，本函式僅傳回兩數的和差積，不傳回商。')\n",
    "        return a + b, a - b, a * b\n",
    "\n",
    "# 主程式\n",
    "x1, y1 = 3, 5\n",
    "tuple1 = operations(x1, y1)\n",
    "print(tuple1) # (8, -2, 15, 0.6)\n",
    "print()\n",
    "\n",
    "# 與上面一段作用相同，這裡顯示：若呼叫函式時輸入參數名稱 a, b，可以不必依傳入參數順序寫入 \n",
    "tuple_1 = operations(b=y1, a=x1) # 與上面一段作用相同，呼叫時連同參數名稱\n",
    "print(tuple_1) # (8, -2, 15, 0.6)\n",
    "print()\n",
    "\n",
    "x2 = 4\n",
    "sum2, difference2, product2 = operations(x2, 0)\n",
    "print(sum2, difference2, product2) # 4 4 0\n",
    "print()\n",
    "\n",
    "list3 = list(operations(3.7, 6.5)) # 將傳回的元組 tuple 資料型態轉換成串列 list\n",
    "print(list3) # [10.2, -2.8, 24.05, 0.5692307692307692]"
   ]
  },
  {
   "cell_type": "markdown",
   "metadata": {},
   "source": [
    "<a id='default_values'></a>\n",
    "### 5.1.2 參數預設值\n",
    "[回目錄](#HOME)\n",
    "\n",
    "* **建立函式時可以替參數設定預設值**，呼叫函式時，如果沒有傳入該參數時，就會使用預設值。\n",
    "* 參數設定預設值的方法為 `參數=值`，**設定預設值的參數必須置於參數串列最後**，否則執行時會產生錯誤。"
   ]
  },
  {
   "cell_type": "code",
   "execution_count": null,
   "metadata": {
    "scrolled": true
   },
   "outputs": [],
   "source": [
    "def get_area(width, height):\n",
    "    area = width * height\n",
    "    return area\n",
    "\n",
    "# print(get_area(4)) # 少輸入一個值，執行此行會報錯\n",
    "\n",
    "\n",
    "def get_area1(width, height=8):\n",
    "    area = width * height\n",
    "    return area\n",
    "\n",
    "print(get_area1(4)) # 32\n",
    "print(get_area1(4, 6)) # 24\n",
    "\n",
    "\n",
    "# def get_area2(width=4, height): # 改用這行會報錯，設定預設值的參數必須置後\n",
    "def get_area2(height, width=4):\n",
    "    area = width * height\n",
    "    return area\n",
    "\n",
    "print(get_area2(5)) # 20"
   ]
  },
  {
   "cell_type": "markdown",
   "metadata": {},
   "source": [
    "<a id='local_variables_and_global_variables'></a>\n",
    "### 5.1.3 區域變數與全域變數\n",
    "[回目錄](#HOME)\n",
    "\n",
    "* 變數依照其有效範圍分為全域變數及區域變數。\n",
    "* 全域變數：定義在函式外的變數，其有效範圍是整個 Python 檔案。\n",
    "* 區域變數：亦稱「局部變數」，定義在一個函式中的變數，其有效範圍是在該函式內。\n",
    "* 若有相同名稱的全域變數與區域變數，以區域變數優先：  \n",
    "  **在函式內，會使用區域變數；在函式外，因區域變數不存在，所以使用全域變數。**\n"
   ]
  },
  {
   "cell_type": "code",
   "execution_count": null,
   "metadata": {
    "scrolled": true
   },
   "outputs": [],
   "source": [
    "animal = 'fruitbat'\n",
    "def print_global():\n",
    "    print('inside print_global:', animal)\n",
    "\n",
    "print('可以在函式內呼叫到全域變數。')\n",
    "print_global()\n",
    "\n",
    "\n",
    "def print_global_and_change():\n",
    "    print('inside print_global_and_change:', animal)\n",
    "    animal = 'wombat'\n",
    "    \n",
    "print('但無法改變它，會出錯。')\n",
    "# 在 Spyder 內，上面的 print 那一行行號就會出現紅叉，下一行行號則有驚嘆號，代表已經偵測出語法錯誤\n",
    "# 但是只要不呼叫 print_global_and_change，「建立語法錯誤的函式」本身不會報錯\n",
    "# 可以嘗試取消下行註解試試看，就會報錯\n",
    "# print_global_and_change()\n",
    "\n",
    "\n",
    "def change_local():\n",
    "    animal = 'wombat'\n",
    "    print('inside change_local: ', animal)\n",
    "\n",
    "print('\\n若要在函式內使用相同名稱的變數，且需不同於全域變數，必須先賦予值方可使用。')\n",
    "change_local()\n",
    "print('change_local 函式外頭的 animal 仍保持是', animal)\n",
    "\n",
    "\n",
    "print('\\n若是在函式內想改變全域變數則使用 global 即可：')\n",
    "def change_and_print_global():\n",
    "    global animal\n",
    "    animal = 'wombat'\n",
    "    print('inside change_and_print_global: ', animal)\n",
    "\n",
    "change_and_print_global()\n",
    "print('change_and_print_global 外面的 animal 同時也會被改變', animal)\n",
    "print('但不建議這種作法。')"
   ]
  },
  {
   "cell_type": "markdown",
   "metadata": {},
   "source": [
    "<a id='function_naming_guidelines'></a>\n",
    "### 5.1.4 函式命名指引\n",
    "[回目錄](#HOME)\n",
    "\n",
    "\n",
    "#### 命名風格\n",
    "* 在寫程式碼的過程中需設定許多名稱，如函式、變數、檔案、模組、方法的命名。\n",
    "* **Naming conventions 命名公約**：命名公約透過一致，優化可發現性和理解性與提高可維護性。\n",
    "* 最常見的命名方式為`camelCase`（駝峰）、`PascalCase`（帕斯卡）、`snake_case`（蛇形）\n",
    "    * **camelCase**：\n",
    "        * 第二個以後的單詞開頭字母大寫，且命名不能以大寫字母結尾。\n",
    "        * 命名中不可出現**特殊符號**，如：連字號（`-`）、底線（`_`）、數字、點\n",
    "        * 最常用於 C 語言與 Java 。\n",
    "        * 舉例：camel**C**ase、some**V**ariable、user**O**ne、user**T**wo\n",
    "    * **PascalCase**：\n",
    "        * 命名規則與 camelCase 相同，僅差在第一個字母亦為大寫。\n",
    "        * 舉例：**P**ascal**C**ase、**S**ome**V**ariable、**U**ser**O**ne\n",
    "    * **snake_case**：\n",
    "        * 全部都是**小寫**，以底線（`_`）作為單詞分割。\n",
    "        * 最常用在 Python 和 R，[Python 官方 (PEP 8)](https://peps.python.org/pep-0008/) 推薦這樣的命名方式。\n",
    "        * 舉例：snake_case、some_variable、user_one\n",
    "\n",
    "\n",
    "#### 命名習慣：（同樣適用於設定變數名稱）  \n",
    "雖然名稱設定不會影響到程式運行，但這對其他人與自己未來能夠理解程式碼非常重要。  \n",
    "* Python 建議命名方式：\n",
    "    * `snake_case` 用在函式、變數、屬性 (attributes)、方法 (methods)。\n",
    "    * `snake_case` 或 `ALL_CAPS`（全部大寫）用在常數。\n",
    "    * `camelCase` 用在定義類別 (classes)。\n",
    "    * `PascalCase` 用在預先存在的約定。\n",
    "     \n",
    "* 可以將函式理解成**功能、動作**，某種資料類別的方法（如串列方法、字串方法）會是專屬於此種資料類別的函式。例如：串列方法就是專屬於串列的函式。\n",
    "* **對函式命名時應強調動詞**（形容此函式的功能、動作），參數則是名詞。**參數包括：函式作用的物件（傳入值），或者是調整函式功能的設定**。\n",
    "    * 例如：將一個串列 `my_list` 排序，函式傳回值是「由小到大排序好的串列」，函式可以寫成 `sorted(my_list)`。\n",
    "        * 在此，`my_list` 是參數，而以動詞 `sorted` 表示排序，「過去分詞」代表傳回的物件是「已經排序過的」。 \n",
    "        * `sorted()` 參數有一個預設值 `reverse = False`，若改成 `True`，則傳回「由大到小排序好的串列」，因此，這個參數是調整了函式的功能。\n",
    "        * 提醒：函式 `sorted()` 可以作用於任何 `可迭代物件`，例如也可以作用在元組 (tuple)、字典 (dictionary)、集合 (set)，當然也包括串列 (list)。所以 `sorted()` 不屬於串列方法，不會修改原物件，而傳回值一定是串列。\n",
    "    * 例如：你自己寫一個串列方法，功能是檢查第一個串列 `list1` 是否比第二個串列 `list2` 更長，傳回 `True` 或 `False`，函式（這時表現為串列方法）可以表達為： `list1.is_longer_than(list2)`。  \n",
    "    這個函式的功能很明確，而且用在判斷式時： `if list1.is_longer_than(list2): ...` 非常容易理解。\n",
    "\n",
    "\n",
    "* 函式名稱要以**功能明確**優先，若符合這個標準，可以進一步追求**簡潔性**（方便記憶）。\n",
    "    * 承上，有幾種狀況適合將函式逕行設為名詞：\n",
    "        * 若是函式是進行一個常見的計算（即 `mean()` 優於 `compute_mean()`）或某知名屬性（即 `coef()` 優於`get_coefficients()`） 。\n",
    "        * 若是函式使用常見的動詞（如：`get`、`compute`、`calculate`、`determine`），則**函式**直接設為**名詞**更好。\n",
    "* 選擇命名方式應追求**一致性**，例如：某個專案都是以 `snake_case` 命名，就不要中途轉換為 `camelCase`。選擇何種命名方式沒有太大差別，但要保持一致，以免讓人理解發生混亂。\n",
    "* 盡量避免使用字母 `l`（小寫的 Ｌ）、`I`（大寫的 I）、`O`（大寫的 O）開頭，因容易與數字 `1` 和 `0` 搞混。\n",
    "* 函式中的參數若與保留字相衝突，習慣上是在結尾加入底線（`_`）來避免這種情況，例如以 `class_` 取代 `class`。\n"
   ]
  },
  {
   "cell_type": "markdown",
   "metadata": {},
   "source": [
    "<a id='numeric_functions'></a>\n",
    "## 5.2 數值函式\n",
    "[回目錄](#HOME)\n",
    "\n",
    "* Python 內建許多功能強大的函式，設計者可以直接使用。\n",
    "    * 事實上，我們已經用了不少內部函式，比如`print()`、`int()`、`str()`、`range()`。\n",
    "* Python 內建的**數值函式**用於處理數值相關的功能，例如：絕對值、進位制轉換、數值串列加總。"
   ]
  },
  {
   "cell_type": "markdown",
   "metadata": {},
   "source": [
    "<a id='numeric_functions_table'></a>\n",
    "### 5.2.1 數值函式列表\n",
    "[回目錄](#HOME)\n",
    "\n",
    "* Python 中常用的數值函式有：\n",
    "\n",
    "|函式|功能|範例|範例成果|\n",
    "|:--|:--|:--|:--|\n",
    "|abs(x)|取得 x 的絕對值|abs(-5)|5|\n",
    "|chr(x)|取得整數 x 的字元|chr(65) |A|\n",
    "|divmod(x, y)|取得 x 除以 y 的商及餘數的元組|divmod(44, 6)|(7,2)|\n",
    "|float(x)|將 x 轉換成浮點數 |float(\"56\")|56.0 |\n",
    "|hex(x) |將 x 轉換成十六進位數字|hex(34)|0x22|\n",
    "|int(x)|將 x 轉換成整數|int(34.21)|34|\n",
    "|len(x)|取得元素個數|len([1,3,5,7])|4|\n",
    "|max(串列)|取得數值串列中的最大值|max(1,3,5,7)|7|\n",
    "|min(串列)|取得數值串列中的最小值|min(1,3,5,7)|1|\n",
    "|oct(x) |將 x 轉換成八進位數字|oct(34)|0o42|\n",
    "|ord(x)|傳回字元 x 的Unicode編碼值|ord(\"我\") |25105|\n",
    "|pow(x, y)|取得 x 的 y 次方|pow(2,3)|8|\n",
    "|round(x) |以四捨六入法取得 x 的近似值|round(45.8)|46|\n",
    "|sorted(串列)|由小到大排序|sorted([3,1,7,5])|[1,3,5,7]|\n",
    "|str(x)|將 x 轉換成字串|str(56)|\"56\"\n",
    "|sum（串列）|計算串列元素的總和|sum([1,3,5,7])|16|\n"
   ]
  },
  {
   "cell_type": "markdown",
   "metadata": {},
   "source": [
    "<a id='pow_divmod_and_round'></a>\n",
    "### 5.2.2 指數、商數、餘數以及近似值 \n",
    "[回目錄](#HOME)\n",
    "\n",
    "* 計算 x 的 y 次方語法為：  \n",
    "`pow(x, y)`\n",
    "    \n",
    "* 計算 x 的 y 次方除以 z 的餘數語法為：  \n",
    "`pow(x, y, z)`  \n",
    "    \n",
    "    * 此時限制 `x`、`z` 必須是整數， `y` 必須是非負整數。\n",
    "    \n",
    "* 計算 x 除以 y 的商數及餘數語法為：  \n",
    "`(商數, 餘數) = divmod(x, y)`\n",
    "    \n",
    "    * 商數及餘數是以元組型態傳回。\n",
    "    * `divmod(pow(x, y), z)[1]` 就是 `pow(x, y, z)`。 \n",
    "\n",
    "*  x 近似到 n 位小數的語法為：  \n",
    "`近似值 = round(x, n)`\n",
    "\n",
    "    * `n = 0`是預設值，表示近似到整數，若簡單寫作 `round(x)` 則傳回 `整數近似值`，若寫成 `round(x, 0)` 則傳回 `整數近似值.0`。\n",
    "    * 第 `n+1` 位是 4 （含）以下則捨去，6 （含）以上則進位。至於 5 呢？  \n",
    "        * 原則上看前一位數，前一位數是奇數則進位，是偶數則捨去，因此 `round(1.5)` 和　`round(2.5)` 的值都是 `2`。\n",
    "        * 但是，因為浮點數不夠精確，這個規則偶爾會被打破。比如 `round(2.665, 2)` 按規則來說是 `2.66`，實際上是 `2.67`； `round(2.675, 1)` 按規則來說是 `2.68`，實際上也是 `2.67`。\n",
    "\n",
    "    * 綜上，若程式的目的是要求高精確度，**不建議**使用 `round()` 函式作近似。\n",
    "        * 若對精度有較高要求，可以考慮內建模組 `decimal` 的 `Decimal()` 函式：若不想受精確度限制，那麼有理數是很自然的表示方法，可以考慮內建模組 `fractions` 的 `Fraction` 類別。"
   ]
  },
  {
   "cell_type": "code",
   "execution_count": null,
   "metadata": {},
   "outputs": [],
   "source": [
    "import fractions \n",
    "fractions.Fraction(2.675)"
   ]
  },
  {
   "cell_type": "code",
   "execution_count": null,
   "metadata": {},
   "outputs": [],
   "source": [
    "print(pow(2, 10)) # 1024\n",
    "print(pow(2.7, -1.3)) # 0.27493314913744465\n",
    "print(pow(3, 11, 5)) # 2\n",
    "print()\n",
    "\n",
    "print(divmod(17,3)) # (5, 2)\n",
    "print(divmod(pow(3,11),5)[1]) # 2\n",
    "print()\n",
    "\n",
    "print(round(1.5)) # 2\n",
    "print(round(2.5)) # 2\n",
    "print(round(1.5, 0)) # 2.0\n",
    "print(round(2.5, 0)) # 2.0\n",
    "print(round(2.63, 1)) # 2.6\n",
    "print(round(2.67, 1)) # 2.7\n",
    "print(round(2.65, 1)) # 2.6 \n",
    "print(round(2.665, 2)) # 應該是 2.66，結果卻是 2.67 \n",
    "print(round(2.675, 2)) # 應該是 2.68，結果卻是 2.67   "
   ]
  },
  {
   "cell_type": "markdown",
   "metadata": {},
   "source": [
    "<a id='max_min_sum'></a>\n",
    "### 5.2.3 最大值、最小值、總和\n",
    "[回目錄](#HOME)\n",
    "\n",
    "* `max()` 函式可以取得一群數值的最大值，括號內可以是多個參數，也可以是一個串列（或一個元組）。語法為：  \n",
    "`max(參數1, 參數2,...)` 或者 `max(串列)`\n",
    "* `min()` 則取得一群數值的最小值，語法同上。\n",
    "\n",
    "* `sum()` 函式取得一群數值的和，括號內是一個串列（或元組），或者是一個串列（或元組）加上額外數值，語法為：  \n",
    "`sum(串列)` 或者 `sum(串列, 額外數值)`  \n",
    "後者不常用。"
   ]
  },
  {
   "cell_type": "code",
   "execution_count": null,
   "metadata": {
    "scrolled": true
   },
   "outputs": [],
   "source": [
    "print(max(1, 2, 3, 4)) # 4\n",
    "print(max([1, 2, 3, 4])) # 4\n",
    "print(min([1, 2, 3, 4])) # 1\n",
    "print()\n",
    "print(sum((1, 2, 3, 4))) # 10\n",
    "print(sum([1, 2, 3, 4])) # 10\n",
    "print(sum([1, 2, 3, 4], 5)) # 15"
   ]
  },
  {
   "cell_type": "code",
   "execution_count": null,
   "metadata": {
    "scrolled": true
   },
   "outputs": [],
   "source": [
    "\"\"\"\n",
    "範例：\n",
    "某人欲了解家裡用電情況，設計程式讓他輸入電費，若直接 Enter 表示資料結束。\n",
    "程式會顯示最多電費、最少電費、平均電費，並將電費由大到小排序。\n",
    "\"\"\"\n",
    "\n",
    "\n",
    "electricity_bill_list = []\n",
    "while True:\n",
    "    bill = input('請輸入電費（輸入 Enter 結束）： ')\n",
    "    if bill == '':\n",
    "        break\n",
    "    electricity_bill_list.append(int(bill))\n",
    "number = len(electricity_bill_list)\n",
    "\n",
    "print(f'共輸入 {number} 個數')\n",
    "print(f'最多電費為：{max(electricity_bill_list)}')\n",
    "print(f'最少電費為：{min(electricity_bill_list)}')\n",
    "print(f'平均電費為：{sum(electricity_bill_list)/number}')\n",
    "print(f'電費由大到小排序為：{sorted(electricity_bill_list, reverse=True)}')"
   ]
  },
  {
   "cell_type": "markdown",
   "metadata": {},
   "source": [
    "<a id='string_functions'></a>\n",
    "## 5.3 字串函式 \n",
    "[回目錄](#HOME)\n",
    "\n",
    "* Python 內建的**字串函式**用於處理字串相關的功能，例如：轉換大小寫、字串分割成字串串列、字串串列連接成單一字串。"
   ]
  },
  {
   "cell_type": "markdown",
   "metadata": {},
   "source": [
    "<a id='string_functions_table'></a>\n",
    "### 5.3.1 字串函式列表 \n",
    "[回目錄](#HOME)\n",
    "\n",
    "* Python 中常用的字串函式有：\n",
    "\n",
    "|函式|功能|範例|範例成果|\n",
    "|:--|:--|:--|:--|\n",
    "|center(n)|將字串擴充為 n 個字元且置中|\"book\".center(8)|\"&nbsp;&nbsp;book&nbsp;&nbsp;\"|\n",
    "|find(s)|搜尋 s字串 在字串中的位置|\"book\".find(\"k\")|3|\n",
    "|endswith(s)|字串是否以 s字串 結尾|\"abc\".endswith(\"c\")|True|\n",
    "|islower()|字串是否都是小寫字母|\"Yes\".islower()|False|\n",
    "|isupper()|字串是否都是大寫字母|'YES\".isupper()|True|\n",
    "|s.join(list)|將串列中元素以 s字串 做為連接字元組成一個字串|\"#\".join([\"ab\", \"cd\", \"ef\"])|ab#cd#ef|\n",
    "|len(字串)|取得字串長度|len(\"book\")|4|\n",
    "|ljust(n)|將字串擴充為 n 個字元且靠左|\"book\".ljust(8)|\"book&nbsp;&nbsp;&nbsp;&nbsp;\"|\n",
    "|lower()|將字串字元都轉為小寫字母|\"YEs\".lower()|yes|\n",
    "|lstrip()|移除字串左方的空白字元|\"  book \".lstrip|\"book \"|\n",
    "|replace(s1,s2)|將字串中的 s1字串 以 s2字串 取代|\"book\".replace(\"o\",\"a\")|baak|\n",
    "|rjust(n)|將字串擴充為 n 個字元且靠右|\"book\".rjust(8)|\"&nbsp;&nbsp;&nbsp;&nbsp;book\"|\n",
    "|rstrip()|移除字串右方的空白字元|\"&nbsp;&nbsp;book \".rstrip()|\"&nbsp;&nbsp;book\"|\n",
    "|split(s)|將字串以 s字串 為分隔字元分割為串列|\"ab#cd#ef\".split(\"#\")|[\"ab\",\"cd\",\"ef\"]|\n",
    "|startswith(s)|字串是否以 s字串 開頭|\"abc\".startswith(\"a\")|True|\n",
    "|strip()|移除字串左方及右方的空白字元|\" book \".strip()|\"book\"|\n",
    "|upper()|將字串字元都轉為大寫字母|\"Yes\".upper()|YES|\n",
    "\n",
    "* **事實上，這些函式都是字串方法！**字串方法的一般語法都是：  \n",
    "`字串.字串方法(傳入值)`"
   ]
  },
  {
   "cell_type": "markdown",
   "metadata": {},
   "source": [
    "<a id='split_and_join'></a>\n",
    "### 5.3.2 分割及連接字串\n",
    "[回目錄](#HOME)\n",
    "\n",
    "* `split()` 函式將一個字串（string）以指定方式分割成串列（list），語法為：  \n",
    "`分割後的串列 = 原字串.split(分隔字串)`\n",
    "\n",
    "    * `分隔字串` 可以省略，此時，根據[官方檔案](https://docs.python.org/3/library/stdtypes.html#str.split)，會將「任意多個空白字元，包括 `\\t`, `\\n` 等等」視為分隔次串，其行為與鍵入分隔字串很不同。\n",
    "    \n",
    "    * `分割後的串列` 是由 `原字串` 的子字串構成。\n",
    "\n",
    "\n",
    "* `join()` 函式與 `split()` 函式作用相反，將串列中的元素組成一個字串，語法為：  \n",
    "`合併後的字串 = 連接字串.join(待合併串列)`\n",
    "\n",
    "    * `join()` 函式內傳入的 `待合併串列` 的每一個元素都必須是字串。\n",
    "    * 你們可能會覺得 `待合併串列.join(連接字串)` 更符合直覺，**但這是錯的！記得： `join()` 是字串方法，不是串列方法。**"
   ]
  },
  {
   "cell_type": "code",
   "execution_count": null,
   "metadata": {
    "scrolled": true
   },
   "outputs": [],
   "source": [
    "str1 = 'This is a bee.'\n",
    "list1 = str1.split() # ['This', 'is', 'a', 'bee.']\n",
    "print(list1)\n",
    "list1a = str1.split(' ') # ['This', 'is', 'a', 'bee.'] 與 list1 相同\n",
    "print(list1a)\n",
    "list1b = str1.split('  ') # ['This is a bee.'] str1 裡面沒有連續兩個半形，無法分割\n",
    "print(list1b)\n",
    "\n",
    "print('-'*70)\n",
    "\n",
    "str2 = '&This&  &is&  &a& &bee&.' # 注意前兩個空白都是兩個半形\n",
    "list2 = str2.split() # ['&This&', '&is&', '&a&', '&bee&.']\n",
    "print(list2)\n",
    "list2a = str2.split(' ') # ['&This&', '', '&is&', '', '&a&', '&bee&.'] 注意：和 list2 不同，多了空字串！\n",
    "print(list2a)\n",
    "list2b = str2.split('  ') # ['&This&', '&is&', '&a& &bee&.']\n",
    "print(list2b)\n",
    "list2c = str2.split('&') # ['', 'This', '  ', 'is', '  ', 'a', ' ', 'bee', '.'] 注意：最前面有一個空字串！\n",
    "print(list2c)\n",
    "\n",
    "print('\\n請你們注意 \\'某字串\\'join() 和 split(某字串) 是作用相反的運算，會恰好還原：')\n",
    "# str1a = list1a.join(' ') # 執行這行會報錯，因為 join 不是串列方法（'list' object has no attribute 'join'），正確語法是下行\n",
    "str1aa = ''.join(list1a) # 'Thisisabee.'\n",
    "print(f'{str1aa = }')\n",
    "str1a = ' '.join(list1a) # 'This is a bee.'\n",
    "print(f'{str1a = }')\n",
    "str1b = '  '.join(list1b) # 'This is a bee.' # 注意 list 1b 本來就是「單元素」串列\n",
    "print(f'{str1b = }')\n",
    "print('str1 == str1a == str1b:', str1 == str1a == str1b) # True\n",
    "\n",
    "print('\\n同時請你們注意 split() 未輸入分割字串，則 \\' \\'.join() 未必恰好完全還原：')\n",
    "str2_new = ' '.join(list2) # '&This& &is& &a& &bee&.' 因為分割時丟掉「連續兩個半形空格」的資訊，還原也不會出現「連續兩個」\n",
    "print(str2_new) \n",
    "print('str2 == str2_new:', str2 == str2_new) # False\n",
    "\n",
    "\n",
    "print('\\n補充：split() 未填入分隔字元，預特殊符號都當作當作空白字元：')\n",
    "str3 = 'This \\t is \\n  a 　bee.' # a 後面有一個半形和一個全形空格, 全形空格的 Unicode 內碼是 \\u3000\n",
    "list3a = str3.split() # ['This', 'is', 'a', 'bee.']\n",
    "list3b = str3.split(' ') # ['This', '\\t', 'is', '\\n', '', 'a', '\\u3000bee.']\n",
    "print(list3a)\n",
    "print(list3b)"
   ]
  },
  {
   "cell_type": "code",
   "execution_count": null,
   "metadata": {},
   "outputs": [],
   "source": [
    "\"\"\"\n",
    "輸入一個正整數，將此數做質因數分解。\n",
    "本範例要點有：\n",
    "1. 我們用到了一個數 n 的質因數必定不超過 n^(1/2)\n",
    "2. 注意最後一行巧妙用到（類似）串列表達式的寫法、f-string、接著用 join 合在一起\n",
    "\"\"\"\n",
    "\n",
    "num0 = int(input(\"請輸入一個正整數: \"))\n",
    "prime_list = []\n",
    "i, s = 2, num0\n",
    "\n",
    "while i*i <= s:\n",
    "    # 程式沒有完全優化，但只有當 i 是質數有機會觸發底下的條件式\n",
    "    while s % i == 0:\n",
    "        prime_list.append(i)\n",
    "        s = s // i\n",
    "    i += 1\n",
    "\n",
    "print(f'{num0} 的質因數分解是:')\n",
    "# print(\" * \".join([str(p) for p in prime_list + [s]])) # 只比下一行多一對中括弧\n",
    "print(\" * \".join(str(p) for p in prime_list + [s])) # join() 作用的不只是串列，而是更一般的可迭代物件"
   ]
  },
  {
   "cell_type": "code",
   "execution_count": null,
   "metadata": {},
   "outputs": [],
   "source": [
    "\"\"\"\n",
    "同前例：輸入一個正整數，將此數做質因數分解。\n",
    "此例作法較為高級。初學可以跳過，但是釐清後，程式設計功力將大幅躍進。\n",
    "本範例要點有：\n",
    "1. 遞迴的概念搭配函式輸入的指定預設值以及更新。這種寫法非常有用。\n",
    "2. 用上 for... else... 的 Python 風格寫法。\n",
    "3. 注意最後一行巧妙用到（類似）串列表達式的寫法、f-string、接著用 join 合在一起\n",
    "\"\"\"\n",
    "\n",
    "def prime_factorize(num, i_start=2, prime_list = []):\n",
    "    for i in range(i_start, int(num**(1/2))+1):\n",
    "        if num % i == 0:\n",
    "            prime_list.append(i)\n",
    "            prime_factorize(num//i, i, prime_list)\n",
    "            break\n",
    "    else:\n",
    "        prime_list.append(num)\n",
    "    return prime_list\n",
    "\n",
    "num0 = int(input('請輸入正整數: '))\n",
    "print(f'{num0} -> ' + ' * '.join(str(p) for p in prime_factorize(num0)))"
   ]
  },
  {
   "cell_type": "markdown",
   "metadata": {},
   "source": [
    "<a id='startswith_and_endswith'></a>\n",
    "### 5.3.3 檢查起始及結束字串\n",
    "[回目錄](#HOME)\n",
    "\n",
    "* `startswith()` 函式檢查字串是否以「指定字串」開頭，**傳回真假值**：若「是」傳回 `True`，若「否」傳回 `False`。語法為：  \n",
    "`字串.startswith(指定字串)`\n",
    "\n",
    "    * 比如：檢查網址開頭是否為「http://」 或者「https://」。\n",
    "    \n",
    "    \n",
    "* `endswith()` 函式檢查字串是否以「指定字串」結束，**傳回真假值**：若「是」傳回 `True`，若「否」傳回 `False`。語法為：  \n",
    "`字串.endswith(指定字串)`\n",
    "\n",
    "    * 比如：檢查教育機構的網址結尾是否為「edu.tw」 或者「edu」、檢查圖檔的副檔名是否為「.jpg」或者「.png」。"
   ]
  },
  {
   "cell_type": "code",
   "execution_count": null,
   "metadata": {
    "scrolled": true
   },
   "outputs": [],
   "source": [
    "def web_examine(web):\n",
    "    \"\"\"本函式的參數是一個網址，檢查此網址是否由 http:// 或者 https:// 開頭，若是，傳回 True；或否，傳回 False \"\"\"\n",
    "    if web.startswith('http://'): \n",
    "        print('這似乎是個網址，但可能不夠安全。')\n",
    "        return True\n",
    "    elif web.startswith('https://'):\n",
    "        print('這似乎是個安全的網址。')\n",
    "        return True\n",
    "    else:\n",
    "        print('這不是一個基於 HTTP 協定的網址。')\n",
    "        return False \n",
    "\n",
    "web1 = 'http://www.fcu.edu.tw'\n",
    "web2 = 'https://www.google.com.tw'\n",
    "web3 = 'ftp://testbangbangbang.org'\n",
    "\n",
    "print(web_examine(web1), '\\n') # 這似乎是個網址，但可能不夠安全。 True\n",
    "print(web_examine(web2), '\\n') # 這似乎是個安全的網址。 True\n",
    "print(web_examine(web3), '\\n') # 這不是一個基於 HTTP 協定的網址。 False"
   ]
  },
  {
   "cell_type": "markdown",
   "metadata": {},
   "source": [
    "<a id='find_and_replace_'></a>\n",
    "### 5.3.4 搜尋及取代字串\n",
    "[回目錄](#HOME)\n",
    "\n",
    "* `find()` 函式是尋找「指定字串」在字串的位置，傳回「指定字串」**第一次出現的位置**，語法為：  \n",
    "`字串.find(指定字串)`\n",
    "\n",
    "    * 字串的位置是以 0 當開頭。若「指定字串」不存在，則傳回 `-1`。\n",
    "    * 參考：與`find()` 的作用相反，`字串[索引值]` 表示**字串中「位置為索引值」的字元**，這倒是和 `串列[索引值]` 用法相同。\n",
    "\n",
    "\n",
    "* `replace()` 函式將字串中的特定字串替換為另一個字串，傳回「替換後的新字串」，**不會改動原字串**，語法為：  \n",
    "`取代完後的新字串 = 原字串.replace(被取代的字串, 取代的字串, 被取代的最多次數)`\n",
    "\n",
    "    * 若省略 `被取代的最多次數`（連同前面逗點一起省略），則字串中所有 `被取代的字串` 都會替換成 `取代的字串`。"
   ]
  },
  {
   "cell_type": "code",
   "execution_count": null,
   "metadata": {
    "scrolled": true
   },
   "outputs": [],
   "source": [
    "my_str = 'I love Python.'\n",
    "print(my_str.find('o')) # 3\n",
    "print(my_str.find('on')) # 11\n",
    "print(my_str.find('p')) # -1, 大小寫有差別\n",
    "\n",
    "pos = my_str.find('P') # 7\n",
    "print('my_str 第', pos+1, '個位置的字元是', my_str[pos]) # 因為 index = 0，所以 pos+1 才是位置 \n",
    "\n",
    "for i in range(len(my_str)): # 此可看所有字的索引值位置\n",
    "    print('my_str 第', i, '個索引值位置的字元是', my_str[i])\n",
    "\n",
    "your_str = my_str.replace('o', '$') # 'I l$ve Pyth$n.'\n",
    "print(your_str)\n",
    "\n",
    "his_str = my_str.replace('o', '$', 1) # 'I l$ve Python.'\n",
    "print(his_str)\n",
    "\n",
    "her_str = my_str.replace('o', '') # 'I lve Pythn.' 效果相當於移除字串中所有的 o\n",
    "print(her_str)"
   ]
  },
  {
   "cell_type": "code",
   "execution_count": null,
   "metadata": {
    "scrolled": true
   },
   "outputs": [],
   "source": [
    "date1 = '2020-12-14'\n",
    "date1 = '西元 ' + date1 # '西元 2020-12-14' \n",
    "print(date1)\n",
    "date1 = date1.replace('-', ' 年 ', 1) # '西元 2020 年 12-14' \n",
    "print(date1)\n",
    "date1 = date1.replace('-', ' 月 ', 1) # '西元 2020 年 12 月 14'\n",
    "print(date1)\n",
    "date1 += ' 日' # 西元 2020 年 12 月 14 日\n",
    "print(date1)\n",
    "\n",
    "time1 = '10:23:41'\n",
    "time1 = time1.replace(':', ' 點 ', 1) # '10 點 23:41'\n",
    "print(time1)\n",
    "time1 = time1.replace(':', ' 分 ', 1) # '10 點 23 分 41'\n",
    "print(time1)\n",
    "time1 += ' 秒' # '10 點 23 分 41 秒'\n",
    "print(time1)"
   ]
  },
  {
   "cell_type": "markdown",
   "metadata": {},
   "source": [
    "<a id='lstrip_rstrip_and_strip'></a>\n",
    "### 5.3.5 移除字串左邊或右邊的特定字元\n",
    "[回目錄](#HOME)\n",
    "\n",
    "* `lstrip()` 移除字串**左邊**的特定字元，`rstrip()` 移除字串**右邊**的特定字元，`strip()` 同時移除字串**左邊和右邊**的特定字元。\n",
    "* 以 `strip()` 為例，傳回「刪除特定字元後的新字元」，**不會改動原字串**，語法為：  \n",
    "`刪除特定字元後的新字串 = 原字串.strip(特定字元)`\n",
    "\n",
    "    * `特定字元` 可以省略，此時，預設為「任意多個空白字元，包括 `\\t`, `\\n` 等等」，因此 `原字串.strip()` 的效果是原字串消除左右兩邊的空白字元。\n",
    "    * **原字串的特定字元，若被「非特定字元」夾在中間，則不會被移除**。"
   ]
  },
  {
   "cell_type": "code",
   "execution_count": null,
   "metadata": {
    "scrolled": true
   },
   "outputs": [],
   "source": [
    "my_str0 = 'sossos I love  Python. osooso'\n",
    "my_str1 = my_str0.lstrip('sos') # ' I love  Python. osooso'\n",
    "print(f'原字串為: {my_str0} \\n新字串為: {my_str1}')\n",
    "my_str2 = my_str1.rstrip('oso') # ' I love  Python. ' # 注意左右兩邊都有空格\n",
    "print(f'再度更新: {my_str2}') \n",
    "print(f'此時字串開頭為\"{my_str2[0]}\"; 字串結尾為\"{my_str2[-1]}\".')\n",
    "my_str3 = my_str2.strip() # I love  Python. # 注意中間的空格不會被刪掉，且中間有連續兩個空格\n",
    "print(f'三度更新: {my_str3}')\n",
    "my_str4 = my_str3.replace('  ', ' ') # I love Python.\n",
    "print(f'最新字串: {my_str4}') "
   ]
  },
  {
   "cell_type": "markdown",
   "metadata": {},
   "source": [
    "<a id='make_change'></a>\n",
    "### 5.3.6 綜合範例：找錢問題\n",
    "[回目錄](#HOME)\n",
    "\n",
    "如果你在一家零售店幫消費的客人結帳，你可能需要快速地挑出合適且數量正確的鈔票與零錢。假設客人的消費金額 a 是 1 到 1000 之間的整數，而你有足夠的 500、100、50、10、5、1 面額鈔票或零錢，我們希望你能依照下面的規則找錢：  \n",
    "你找的錢總額要是1000 - a。與其給客人五張 100 元，不如給他一張 500 元；與其給客人兩個 50 元，不如給他一張100 元……依此類推。  \n",
    "以下是一些例子：  \n",
    "如果客人消費 200 元，你應該找給他 1 張 500 元和 3 張 100 元。  \n",
    "如果客人消費 286 元，你應該找給他 1 張 500 元、2 張 100 元、1 個 10 元和 4 個 1 元。  \n",
    "如果客人消費 925 元，你應該找給他 1 個 50 元、2 個 10 元和 1 個 5 元。  \n",
    "在本題中，你將會被給予上述的整數a，而你要找出符合上述規則的唯一找錢方式。\n",
    "\n",
    "\n",
    "**輸入輸出格式**  \n",
    "程式執行後顯示的第一行是請輸入消費金額（1 到 1000）： 你在冒號後頭輸入一個整數 a，最小是 1，最大是 1000。  \n",
    "接著，依前述規則找出每種面額的鈔票（或銅板）應該要給幾張（或幾個），然後由面額大至小依序輸出所需鈔票張數或銅板個數，**如果不用找給客人某個面額的鈔票或銅板，就跳過該面額不要輸出**。現在要輸出面額與對應張數（或個數），中間用一個半形逗點和半形空格隔開，每組面額和下一組面額之間用一個半形分號和半形空格隔開。舉例來說：  \n",
    "**如果輸入是 286，則輸出「找您 500 元鈔票, 1 張; 100 元鈔票, 2 張; 10 元硬幣, 1 個; 1 元硬幣, 4 個.」**  \n",
    "（注意：這裡跳過 5 元硬幣，輸出顯示有一個句點。）  \n",
    "**假如不用找錢，也就是說，當輸入是1000，則輸出「不用找錢！」**  \n",
    "（注意：輸出顯示有一個驚嘆號。）  \n",
    "輸出時請務必小心，錯一個空白或標點符號就錯了\n",
    "\n",
    "**此題務必自己練習過，再來參考下方的程式碼。**"
   ]
  },
  {
   "cell_type": "code",
   "execution_count": null,
   "metadata": {
    "scrolled": true
   },
   "outputs": [],
   "source": [
    "\"\"\"作法一\"\"\"\n",
    "\n",
    "money = int(input(\"請輸入消費金額（限制在 1 和 1000 之間的整數）： \"))\n",
    "change1000 = 1000 - money\n",
    "x500, change500 = divmod(change1000, 500)\n",
    "x100, change100 = divmod(change500, 100)\n",
    "x50, change50 = divmod(change100, 50)\n",
    "x10, change10 = divmod(change50, 10)\n",
    "x5, x1 = divmod(change10, 5)\n",
    "\n",
    "message = \"\"\n",
    "\n",
    "if x500 != 0:\n",
    "    message += f\"500 元鈔票, {x500} 張; \"\n",
    "\n",
    "if x100 != 0:   \n",
    "    message += f\"100 元鈔票, {x100} 張; \"\n",
    "    \n",
    "if x50 != 0:     \n",
    "    message += f\"50 元硬幣, {x50} 個; \"\n",
    "    \n",
    "if x10 != 0:     \n",
    "    message += f\"10 元硬幣, {x10} 個; \"\n",
    "    \n",
    "if x5 != 0:       \n",
    "    message += f\"5 元硬幣, {x5} 個; \"\n",
    "    \n",
    "if x1 != 0:    \n",
    "    message += f\"1 元硬幣, {x1} 個; \"\n",
    "    \n",
    "if message != \"\":\n",
    "    message = \"找您 \" + message.rstrip(\"; \") + \".\"\n",
    "else:\n",
    "    message = \"不用找錢！\"    \n",
    "\n",
    "print(message)"
   ]
  },
  {
   "cell_type": "code",
   "execution_count": null,
   "metadata": {
    "scrolled": true
   },
   "outputs": [],
   "source": [
    "\"\"\"作法二\"\"\"\n",
    "\n",
    "money = int(input(\"請輸入消費金額（限制在 1 和 1000 之間的整數）： \"))\n",
    "change = 1000 - money\n",
    "unit = [500, 100, 50, 10, 5, 1]\n",
    "x = [0] * 6 # x = [0, 0, 0, 0, 0, 0]\n",
    "for i in range(6):\n",
    "    x[i], change = divmod(change, unit[i])\n",
    "\n",
    "message = \"\"\n",
    "\n",
    "for i in range(2):\n",
    "    if x[i] != 0:\n",
    "        message += f\"{unit[i]} 元鈔票, {x[i]} 張; \"\n",
    "\n",
    "for i in range(2, 6):\n",
    "    if x[i] != 0:\n",
    "        message += f\"{unit[i]} 元硬幣, {x[i]} 個; \"\n",
    "    \n",
    "if message != \"\":    \n",
    "    message = f\"找您 {message[:-2]}.\"\n",
    "else:\n",
    "    message = \"不用找錢！\"    \n",
    "\n",
    "print(message)"
   ]
  },
  {
   "cell_type": "markdown",
   "metadata": {},
   "source": [
    "<a id='modules'></a>\n",
    "## 5.4 模組 (Module)\n",
    "[回目錄](#HOME)\n",
    "\n",
    "* 因為 Python 很受歡迎，所以有很活躍的社群，因應不同需求，熱心的人會貢獻自己寫的程式碼，封裝成一個又一個的工具箱，不斷擴充完善。我們稱這些工具箱為模組（module）。\n",
    "* Python 的模組非常豐富，功能強大。吸引更多人加入 Python 社群，如此形成良性循環的健康生態系。\n",
    "* 待會要介紹兩個功能強大的模組：亂數模組 `random` 和時間模組 `time`。\n",
    "* 在詳細介紹特定模組的用途之前，我們要先學會怎麼將工具箱帶回家（匯入模組）。"
   ]
  },
  {
   "cell_type": "markdown",
   "metadata": {},
   "source": [
    "### <a id='import_modules'></a>\n",
    "### 5.4.1 import 模組\n",
    "[回目錄](#HOME)\n",
    "\n",
    "* 使用 `import` 命令就可匯入模組，語法為：  \n",
    "`import 模組名稱`  \n",
    "例如，若要匯入亂數模組，程式碼為 `import random`。\n",
    "\n",
    "\n",
    "* 通常模組中有許多函式供設計者使用，使用這些函式的語法為：  \n",
    "`模組名稱.函式名稱(參數)`  \n",
    "例如，若想使用亂數模組中的 `randint()` 函式，就以 `random.randint(參數)` 呼叫它；若想使用亂數模組中的 `random()` 函式（函式名稱與模組名稱相同），就以 `random.random(參數)` 呼叫它，前面一個 `random` 是模組名稱，後面一個 `random` 是函式名稱。\n",
    "\n",
    "\n",
    "* 為什麼要那麼麻煩呢？不能直接用 `randint(參數)` 呼叫函式嗎？原因是：  \n",
    "    * **不同工具箱內可能有相同名稱的工具，但是它們的使用方法往往不盡相同，用途可能也有差異！**  \n",
    "    * Python 生態圈內有很多個模組，每個模組底下會有更多函式，函式名稱必定會重複，也可能和 Python 內建的函式名稱重複（寫模組的人可能認為自己寫的函式與 Python 內建的函式功能相近，但更好用）。只標出函式名稱的話，電腦無法確知是用哪一個模組底下的函式。\n",
    "    * 你們可能覺得 `模組名稱.函式名稱(參數)` 太冗長了，確實如此！因此，Python 很貼心的提供幾種便利語法，請繼續閱讀。\n",
    "    \n",
    "    \n",
    "* 匯入模組時，可以替模組取一個簡短的名字，語法為：  \n",
    "`import 模組名稱 as 模組別名`  \n",
    "這裡的別名和 Python 保留字不可重複。以亂數模組為例，常常寫成 `import random as rd`。\n",
    "* 使用別名以後，使用模組的函式就可以用 `模組別名.函式名稱(參數)` 呼叫，例如 `rd.randint(參數)`、`rd.random(參數)`，比全名縮短不少。\n",
    "\n",
    "\n",
    "* 假如**只用到模組內的某一個函式**，可以在宣告時就設定好，語法為：  \n",
    "`from 模組名稱 import 函式名稱`  \n",
    "    **之後使用函式時就不必提及模組名稱了。**\n",
    "    * 例如，若只想使用 `random` 模組中的 `randint()` 函式，設定語法為 `from random import randint`，以後可以直接用 `randint(參數)` 呼叫它（不提及模組名稱 `random`）。\n",
    "    \n",
    "    * 假如要用到同一個模組底下的數個函式，可以寫成：  \n",
    "    `from 模組名稱 import 函式名稱1, 函式名稱2...`\n",
    "    \n",
    "    \n",
    "* 除了模組可以設定別名，單獨使用模組中的函式也可以設定別名，語法為：  \n",
    "`from 模組名稱 import 函式名稱 as 函式別名`  \n",
    "很方便吧！\n",
    "    * 例如，若只想使用 `random` 模組中的 `randint()`函式，設定語法寫作 `from random import randint as rt`，以後可以用 `rt(參數)` 呼叫它。\n",
    "    * 假如要用到同一個模組底下的幾個函式，可以寫成：  \n",
    "    `from 模組名稱 import 函式名稱1 as 函式別名1, 函式名稱2 as 函式別名2...`\n",
    "     "
   ]
  },
  {
   "cell_type": "markdown",
   "metadata": {},
   "source": [
    "<a id='random_module_functions_table'></a>\n",
    "### 5.4.2 亂數模組的函式列表 \n",
    "[回目錄](#HOME)\n",
    "\n",
    "\n",
    "* 在下表中， `r` 為 `random` 模組的別名。`str1 = 'abcdefg'`，`list1=['ab', 'cd', 'ef']`。\n",
    "* 常用的亂數模組函式有：\n",
    "\n",
    "|函式|功能|範例|範例成果|\n",
    "|:--|:--|:--|:--|\n",
    "|choice（字串）|由字串中隨機取得一個字元|r.choice(str1)|b|\n",
    "|randint(n1,n2)|由n1到n2之間隨機取得一個整數|r.randint(1,10)|7|\n",
    "|random()|由0到1之間隨機取得一個浮點數|r.random()|0.893398...|\n",
    "|randrange(n1,n2,n3)|由n1到n2之間每隔n3的數隨機取得一個整數|r.randrange(0,11,2)|8（偶數）|\n",
    "|sample(字串,n)|由字串中隨機取得n個字元|r.sample(str1,3)|['c', 'a', 'd']|\n",
    "|shuffle(串列)|為串列洗牌|r.shuffle(list1)|['ef', 'ab', 'cd']|\n",
    "|uniform(f1,f2)|由f1到f2之間隨機取得一個浮點數|r.uniform(1,10)|6.351865...|"
   ]
  },
  {
   "cell_type": "markdown",
   "metadata": {},
   "source": [
    "<a id='randint_randrange_random_and_uniform'></a>\n",
    "### 5.4.3 產生隨機整數或浮點數 \n",
    "[回目錄](#HOME)\n",
    "\n",
    "* `randint()` 函式的功能是由指定範圍產生一個整數亂數，語法為：  \n",
    "`random.randint(起始值, 終止值)`  \n",
    "執行後會產生一個在起始值（**含**）和終止值（**含**）之間的整數亂數。\n",
    "    * 起始值和終止值必須是整數，終止值不小於起始值。\n",
    "    * **產生的亂數可能是起始值或終止值**。\n",
    "\n",
    "\n",
    "* `randrange()` 與 `randint` 功能相近，由指定範圍產生一個整數亂數，但是多了一個間隔值，語法為：  \n",
    "`random.randrange(起始值, 終止值, 間距)`  \n",
    "執行後會產生一個在起始值（**含**）和終止值（**不含**）之間的整數亂數。\n",
    "    * 可以這樣理解 `randrange(m, n, k)`：在 `range(m, n, k)` （**只要不為空**）中隨機挑一個整數。\n",
    "    * 起始值、終止值與間距必須是整數，但是沒限制正負，若間距為負，終止值可以小於起始值。\n",
    "    * **產生的亂數可能是起始值，但不可能是終止值**。\n",
    "    * 間距默認為 1，若省略必須連前頭 `,` 一起省略，因此 `random.randrange(m, n)`、`random.randrange(m, n, 1)`與 `random.randint(m, n-1)` 作用相同。 "
   ]
  },
  {
   "cell_type": "code",
   "execution_count": null,
   "metadata": {
    "scrolled": true
   },
   "outputs": [],
   "source": [
    "import random as rd\n",
    "for i in range(10):\n",
    "    j = 2 * rd.randint(1,5) + 1 # randint() 產生 1, 2, 3, 4, 5 之一，則 j 為 3, 5, 7, 9, 11 之一\n",
    "    print(j, end=' ')\n",
    "\n",
    "print()\n",
    "for i in range(10):\n",
    "    print(rd.randrange(3,13,2), end=' ') # 產生的數必定是 3, 5, 7, 9, 11 之一 \n",
    "    "
   ]
  },
  {
   "cell_type": "code",
   "execution_count": null,
   "metadata": {
    "scrolled": true
   },
   "outputs": [],
   "source": [
    "\"\"\"\n",
    "隨機方法可以用來求一些不太好計算的期望值。\n",
    "期望值可以理解成「做同樣的事非常多次，出現的數字的平均值」。\n",
    "此處示範：\n",
    "擲一顆公正骰子，擲到連續兩次 6 才停止，平均需要幾次？\n",
    "\"\"\"\n",
    "\n",
    "from random import randint as rt\n",
    "\n",
    "num_of_experiments = 100000\n",
    "face_of_dice = 6\n",
    "consecutive_time = 2\n",
    "total = 0\n",
    "\n",
    "for i in range(num_of_experiments):\n",
    "    \n",
    "    count_number = 0\n",
    "    success = 0\n",
    "    \n",
    "    while True:\n",
    "        count_number += 1\n",
    "        roll_a_dice = rt(1,face_of_dice)\n",
    "        if roll_a_dice == 6:\n",
    "            success += 1\n",
    "            if success == consecutive_time:\n",
    "                break\n",
    "        else:\n",
    "            success = 0\n",
    "\n",
    "    total += count_number\n",
    "    \n",
    "expectation = total/num_of_experiments\n",
    "print(expectation)"
   ]
  },
  {
   "cell_type": "markdown",
   "metadata": {},
   "source": [
    "* `random()` 函式的功能是產生一個 0 到 1 之間的**浮點數亂數**，語法為：  \n",
    "`random.random()`\n",
    "\n",
    "\n",
    "* `uniform()` 函式的功能是產生一個指定範圍的**浮點數亂數**，語法為：  \n",
    "`random.uniform(起始值, 終止值)`\n",
    "    * **產生的亂數可能是起始值或終止值**。加分題：如何簡單測試這點？\n",
    "    * `random.uniform(0, 1)` 作用與 `random.random()` 相同。\n",
    "    * `random.uniform(p, q)` 作用與 `p + (q-p) * random.random()` 相同。"
   ]
  },
  {
   "cell_type": "code",
   "execution_count": null,
   "metadata": {
    "scrolled": true
   },
   "outputs": [],
   "source": [
    "import random as rd\n",
    "for i in range(5):\n",
    "    j = 30 + 70 * rd.random() # random() 均勻產生 0 到 1 的亂數，則 j 是均勻分布在 30 到 100 之間的亂數 \n",
    "    print(j, end=' ')\n",
    "\n",
    "print()\n",
    "for i in range(5):\n",
    "    print(rd.uniform(30,100), end=' ') # uniform() 均勻產生 30 到 100 之間的亂數"
   ]
  },
  {
   "cell_type": "code",
   "execution_count": null,
   "metadata": {
    "scrolled": true
   },
   "outputs": [],
   "source": [
    "\"\"\"\n",
    "用隨機模擬求一些不太好算的數字是一種常見方法，這種方法稱為 Monte Carlo 方法。\n",
    "此處簡單示範：如何用隨機模擬估計 π。\n",
    "\"\"\"\n",
    "\n",
    "from random import random as rd\n",
    "total = 1000000\n",
    "\n",
    "# naive Monte Carlo\n",
    "inside = 0\n",
    "for i in range(total):\n",
    "    if rd()**2 + rd()**2 < 1.0:\n",
    "        inside += 1\n",
    "pi = 4 * inside / total\n",
    "print(pi)"
   ]
  },
  {
   "cell_type": "markdown",
   "metadata": {},
   "source": [
    "<a id='choice_and_sample'></a>\n",
    "### 5.4.4 隨機取得字串字元或串列元素 \n",
    "[回目錄](#HOME)\n",
    "\n",
    "* `choice()` 函式的功能是隨機抽出一個字元或串列元素，語法為：  \n",
    "`random.choice(字串或串列)`\n",
    "\n",
    "    * 如果參數是字串，就隨機由字串中取得一個字元。\n",
    "    * 如果參數是串列，就隨機由串列中取得一個元素。\n",
    "    \n",
    "    \n",
    "* `sample()` 函式的功能與 `choice()` 相近，只是 `sample()` 函式可以隨機抽出**多個**字元或串列元素，**將抽出來的數組成串列**，語法為：  \n",
    "`random.sample(字串或串列, 數量)`\n",
    "    \n",
    "    * **`sample()` 傳回串列**。\n",
    "    * 如果參數是字串，就隨機由字串中抽出指定數量的字元，**抽取位置不重複**；如果參數是串列，就隨機由串列中取得指定數量的元素，**抽取位置不重複**。\n",
    "    * 承上，數量不得超過字串或串列的長度。\n",
    "   \n",
    "* `sample()` 不在同一處抽的特性稱為「抽出後不放回」（sample without replacement），很適合用來設計成抽獎程式。"
   ]
  },
  {
   "cell_type": "code",
   "execution_count": null,
   "metadata": {
    "scrolled": true
   },
   "outputs": [],
   "source": [
    "import random as rd\n",
    "\n",
    "str1 = 'abcdef'\n",
    "print(rd.choice(str1))\n",
    "print(rd.sample(str1,1))\n",
    "\n",
    "# 將 str1 順序打亂重排: 先用　sample() 抽取「str1 長度」次，得到隨機串列，再將串列元素依序組成字串\n",
    "rand_list_str1 = rd.sample(str1, len(str1)) \n",
    "print(rand_list_str1)\n",
    "rand_str1 = ''\n",
    "for j in rand_list_str1:\n",
    "    rand_str1 += j\n",
    "print(f'str1 是 {str1} ; 隨機重排後是 {rand_str1}。')\n",
    "\n",
    "print()\n",
    "list1 = list(range(10)) # [0, 1, 2, 3, 4, 5, 6, 7, 8, 9]\n",
    "print(rd.choice(list1))\n",
    "print(rd.sample(list1,3))\n",
    "rand_list1 = rd.sample(list1, len(list1)) # 將 list1 順序打亂重排\n",
    "print(rand_list1)"
   ]
  },
  {
   "cell_type": "code",
   "execution_count": null,
   "metadata": {
    "scrolled": true
   },
   "outputs": [],
   "source": [
    "\"\"\"\n",
    "範例：\n",
    "大樂透中獎號碼為六個 1 到 49 中的數字加上一個特別號。\n",
    "寫一個程式抽出中獎號碼，並由小到大顯示，以方便對獎。\n",
    "\"\"\"\n",
    "\n",
    "from random import sample \n",
    "\n",
    "list1 = sample(range(1,50), 7)\n",
    "special = list1.pop() # 串列方法 pop() 會拍出串列的某個位置的值，預設是最後一個位置，改變原串列 \n",
    "list1.sort() # 串列方法 sort() 會直接對原串列排序，預設是由小到大，改變原串列\n",
    "\n",
    "print('本期大樂透中獎號碼為: ', end='')\n",
    "for i in range(0,5):\n",
    "        print(list1[i], end=', ')\n",
    "print(list1[5])\n",
    "\n",
    "print('本期大樂透的特別號為: ', special)"
   ]
  },
  {
   "cell_type": "markdown",
   "metadata": {},
   "source": [
    "<a id='time_module'></a>\n",
    "### 5.5 時間模組\n",
    "[回目錄](#HOME)\n",
    "\n",
    "* 我們常常需要程式取得時間相關的訊息。例如：評估程式運作時間多久。\n",
    "* 我們也常常得讓程式流程控制執行時間。例如：網路爬蟲程式若動作太快，可能會被暫時拒絕拜訪網站。假如你是用 Python 程式來寫爬蟲程式，經常使用 `time.sleep()` 令程式停止運作幾秒鐘。\n",
    "* Python 的時間模組非常強大，提供豐富的相關功能，使用者只要匯入時間模組即可使用，語法為：  \n",
    "`import time`"
   ]
  },
  {
   "cell_type": "markdown",
   "metadata": {},
   "source": [
    "<a id='time_module_functions_table'></a>\n",
    "### 5.5.1 時間模組的函式列表 \n",
    "[回目錄](#HOME)\n",
    "\n",
    "* Python 中常用的時間模組函式有：\n",
    "\n",
    "|函式|功能|\n",
    "|:--|:--|\n",
    "|clock()|取得程式執行時間。|\n",
    "|ctime([時間數值])|以傳入的時間數值來取得時間字串。|\n",
    "|localtime([時間數值])|以傳入的時間數值來取得時間元組資訊。|\n",
    "|sleep(n)|程式停止執行n秒。|\n",
    "|time()|取得目前時間數值。|\n",
    "\n",
    "\n",
    "* **Python 3.8 的 `time` 模組已經移除 `clock()` 函式！！**"
   ]
  },
  {
   "cell_type": "markdown",
   "metadata": {},
   "source": [
    "<a id='time_localtime_and_ctime'></a>\n",
    "### 5.5.2 取得時間訊息 \n",
    "[回目錄](#HOME)\n",
    "\n",
    "* Python 的時間是以 tick 為單位，長度為一微秒 (百萬分之一秒)。\n",
    "* Python 計時是從 1970 年 1 月 1 日零時開始的秒數，此數值即為「時間數值」，是精確到小數點六位數的浮點數，`time()` 函式可取得此數值，語法為：  \n",
    "`time.time()`"
   ]
  },
  {
   "cell_type": "code",
   "execution_count": null,
   "metadata": {
    "scrolled": true
   },
   "outputs": [],
   "source": [
    "import time as t\n",
    "print(t.time()) # 1601352166.667097 表示從 1970 年 1 月 1 日零時到現在經過了　1601352166.667097 秒"
   ]
  },
  {
   "cell_type": "markdown",
   "metadata": {},
   "source": [
    "* 從上面的程式可以看出，光是取得「時間數值」對使用者沒有太大意義。但是，我們可以藉由「兩個時間數值」的差，評估程式運作的時間。"
   ]
  },
  {
   "cell_type": "code",
   "execution_count": null,
   "metadata": {
    "scrolled": true
   },
   "outputs": [],
   "source": [
    "from time import time as t\n",
    "start_time1 = t()\n",
    "for i in range(1000):\n",
    "    for j in range(1000):\n",
    "        n = i * j\n",
    "end_time1 = t()\n",
    "print(end_time1 - start_time1)\n",
    "\n",
    "# 假如電腦每次算 i * j 的時間差不多，可以評估底下這段程式的執行時間大約是上面那段的多少倍？\n",
    "\n",
    "start_time2 = t()\n",
    "for i in range(10000):\n",
    "    for j in range(10000):\n",
    "        n = i * j\n",
    "end_time2 = t()\n",
    "print(end_time2 - start_time2)"
   ]
  },
  {
   "cell_type": "markdown",
   "metadata": {},
   "source": [
    "* `localtime()` 函式可以取得使用者時區的日期及時間資訊，語法為：  \n",
    "`time.localtime(時間數值)`  \n",
    "傳回根據 `時間數值` 參數算得的**時間資訊元組**。\n",
    "* 若省略 `時間數值` 參數，則是傳回**此時此刻**的時間資訊元組。\n",
    "* `localtime()` 函式傳回的時間資訊元組，其意義為：\n",
    "\n",
    "|序號|名稱|意義|\n",
    "|:--:|:--|:--|\n",
    "|0|tm_year|西元年\n",
    "|1|tm_mon|月份（1 到 12）\n",
    "|2|tm_mday|日數(1 到 31) \n",
    "|3|tm_hour|小時（0 到 23）\n",
    "|4|tm_min|分鐘（0 到 59）\n",
    "|5|tm_sec|秒數（0 到 60，可能是閏秒）\n",
    "|6|tm_wday|星期幾（0 到 6，星期一為 0........星期日為 6）\n",
    "|7|tm_yday|一年中的第幾天（1 到 366，可能是閏年）\n",
    "|8|tm_isdst|時光節約時間（1 為有時光節約時間，0 為無時光節約時間）\n",
    "\n",
    "* 取得時間元組中單一時間項目值的方式有兩種：一種為 `時間資訊元祖.名稱`，另一種為 `時間資訊元組[索引]`。"
   ]
  },
  {
   "cell_type": "code",
   "execution_count": null,
   "metadata": {},
   "outputs": [],
   "source": [
    "from time import localtime as lt\n",
    "time0 = lt(1601352166.667097) # time.struct_time(tm_year=2020, tm_mon=9, tm_mday=29, tm_hour=12, tm_min=2, tm_sec=46, tm_wday=1, tm_yday=273, tm_isdst=0)\n",
    "print('製作完這份講義初稿的日期:', time0.tm_year, '年', time0.tm_mon, '月', time0.tm_mday, '日')\n",
    "\n",
    "time_now = lt() # 顯示此時此刻的時間資訊\n",
    "time_list = ['年', '月', '日', '時', '分', '秒'] \n",
    "print('此時此刻的時間:', end=' ')\n",
    "for i in range(6):\n",
    "    print(time_now[i], time_list[i], end=' ')"
   ]
  },
  {
   "cell_type": "code",
   "execution_count": null,
   "metadata": {
    "scrolled": true
   },
   "outputs": [],
   "source": [
    "from time import localtime as lt\n",
    "\n",
    "time_now = lt()\n",
    "yday_now = time_now.tm_yday\n",
    "show = '今天是今年的第 ' + str(yday_now) + ' 天，屬於'\n",
    "if yday_now < 184: \n",
    "    show += '上半年。'\n",
    "else:  \n",
    "    show += '下半年。'\n",
    "print(show)"
   ]
  },
  {
   "cell_type": "markdown",
   "metadata": {},
   "source": [
    "* `ctime()` 函式功能與 `localtime()` 函式相近，不同處在於 `ctime()` 傳回時間資訊字串，語法為：  \n",
    "`time.ctime(時間數值)`  \n",
    "傳回根據 `時間數值` 參數算得的**時間資訊字串**。\n",
    "\n",
    "    * 若省略 `時間數值` 參數，則是傳回**此時此刻**的時間資訊字串。\n",
    "    * 時間資訊字串的排序依序為：  \n",
    "    `星期幾 月 日 時: 分: 秒 西元年`"
   ]
  },
  {
   "cell_type": "code",
   "execution_count": null,
   "metadata": {
    "scrolled": true
   },
   "outputs": [],
   "source": [
    "from time import ctime as ct\n",
    "\n",
    "time0 = ct(1601352166.667097)\n",
    "print(time0)\n",
    "time_now = ct()\n",
    "print(time_now)"
   ]
  }
 ],
 "metadata": {
  "kernelspec": {
   "display_name": "Python 3 (ipykernel)",
   "language": "python",
   "name": "python3"
  },
  "language_info": {
   "codemirror_mode": {
    "name": "ipython",
    "version": 3
   },
   "file_extension": ".py",
   "mimetype": "text/x-python",
   "name": "python",
   "nbconvert_exporter": "python",
   "pygments_lexer": "ipython3",
   "version": "3.9.15"
  },
  "varInspector": {
   "cols": {
    "lenName": 16,
    "lenType": 16,
    "lenVar": 40
   },
   "kernels_config": {
    "python": {
     "delete_cmd_postfix": "",
     "delete_cmd_prefix": "del ",
     "library": "var_list.py",
     "varRefreshCmd": "print(var_dic_list())"
    },
    "r": {
     "delete_cmd_postfix": ") ",
     "delete_cmd_prefix": "rm(",
     "library": "var_list.r",
     "varRefreshCmd": "cat(var_dic_list()) "
    }
   },
   "position": {
    "height": "144px",
    "left": "1581px",
    "right": "20px",
    "top": "120px",
    "width": "350px"
   },
   "types_to_exclude": [
    "module",
    "function",
    "builtin_function_or_method",
    "instance",
    "_Feature"
   ],
   "window_display": false
  }
 },
 "nbformat": 4,
 "nbformat_minor": 4
}
