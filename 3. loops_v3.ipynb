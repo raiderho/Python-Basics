{
 "cells": [
  {
   "cell_type": "markdown",
   "metadata": {},
   "source": [
    "# Instructor\n",
    "\n",
    "> **Steven Ho**     \n",
    "raiderho@gmail.com  \n",
    "如有任何意見，歡迎指教。"
   ]
  },
  {
   "cell_type": "markdown",
   "metadata": {},
   "source": [
    "<a id='HOME'></a>\n",
    "# 3. Loops\n",
    "## 迴圈\n",
    "\n",
    "* [3.1 迴圈與 range 函式](#loops_and_range_functions)\n",
    "    * [3.1.1 range 函式語法](#range_functions_syntax)\n",
    "* [3.2 for 迴圈](#for_loops)\n",
    "    * [3.2.1 嵌套 for 迴圈](#nested_for_loops)\n",
    "* [3.3 break 指令和 continue 指令](#break_and_continue)\n",
    "    * [3.3.1 break 陳述句](#break_statements)\n",
    "    * [3.3.2 continue 陳述句](#continue_statements)\n",
    "    * [3.3.3 補充：跳出整個嵌套迴圈](#breaking_out_of_nested_loops)\n",
    "* [3.4 while 迴圈](#while_loops)\n",
    "    * [3.4.1 while True 與程式碼維護](#while_True)"
   ]
  },
  {
   "cell_type": "markdown",
   "metadata": {},
   "source": [
    "<a id='loops_and_range_functions'></a>\n",
    "## 3.1 迴圈與 range 函式\n",
    "\n",
    "* 電腦擅長做重複的事情。在程式語言裡，專門用來處理重複動作的命令稱為「迴圈」。\n",
    "* 迴圈命令有兩類：\n",
    "    * **for 迴圈**用於執行固定次數的迴圈。\n",
    "    * **while 迴圈**根據判斷式，決定是否繼續執行。\n",
    "* 迴圈最常使用整數等差數列，例如「1, 2, 3,⋯⋯」，每個數列的內容稱為數列的元素，range 函式的功能就是建立整數等差數列。"
   ]
  },
  {
   "cell_type": "markdown",
   "metadata": {},
   "source": [
    "<a id='range_functions_syntax'></a>\n",
    "### 3.1.1 range 函式語法\n",
    "[回目錄](#HOME)\n",
    "\n",
    "* range 函式使用一個參數的語法為：  \n",
    "`變數 = range(n)`    \n",
    "    * n 必須為整數。\n",
    "    * 產生的數列是 **0 到 整數值 n - 1** 的串列，**公差為 1**。\n",
    "    * n 可以是 0 或負整數，然而，n - 1 還比起始值 0 小，如此會產生空串列。\n",
    "    \n",
    "    \n",
    "* range 函式使用兩個參數的語法為：  \n",
    "`變數 = range(m, n)`\n",
    "    * m、n 必須皆為整數。注意：包括負數。\n",
    "    * 產生的數列是 **起始整數值 m 到 終止整數值 n - 1** 的串列，**公差為 1**。\n",
    "    * 若 n ≦ m， n - 1 還比初始值 m 來得小，如此會產生空串列。\n",
    "    * `range(0, n)` 與 `range(n)` 相同。\n",
    "\n",
    "\n",
    "* range 函式使用三個參數的語法為：     \n",
    "`變數 = range(m, n, k)`\n",
    "    * m、n、k 必須皆為整數。注意：包括負數。\n",
    "    * **當 k 是正數**，產生的數列是 **起始整數值 m 到 終止整數值 n - 1** 的串列，**公差為 k**。\n",
    "    * **當 k 是負數**，產生的數列是 **起始整數值 m 到 終止整數值 n + 1** 的串列，**公差為 k**。\n",
    "    * `range(m, n, 1)` 與 `range(m, n)` 相同。    "
   ]
  },
  {
   "cell_type": "code",
   "execution_count": null,
   "metadata": {
    "scrolled": true
   },
   "outputs": [],
   "source": [
    "list1 = range(5) # 提醒：list 是保留字，變數名稱不要取 list，要嘛 mylist 或者 list1\n",
    "print(list1) \n",
    "print(list(list1)) # 提醒：只會排到 4"
   ]
  },
  {
   "cell_type": "markdown",
   "metadata": {},
   "source": [
    "#### 解釋一下上面的例子：  \n",
    "* `range()` 在 Python 語言裡面是生成器（generator）。  \n",
    "`range(5)` 產生了 0 到 4 這五個數字，但是還暫時沒把這些數字放出來，直接下 `print` 指令也只能印出 `range(0, 5)`。\n",
    "* list 這個指令是串列，串列是一種資料型態，這是下一講的主題。  \n",
    "簡單理解就是：把一坨資料排排站。因此，把 `range(5)` 排排站就是 0, 1, 2, 3, 4，前後加上中括弧 `[]` 則是串列（list）這種資料型態的語法。\n",
    "* 那麼，為何 `range()` 不乾脆把數字放出來排列呢？\n",
    "    * 把數字放出來排成串列需要占用電腦的記憶體（RAM）。\n",
    "    * 假設電腦可能要執行幾兆次迴圈，一個整數就佔了至少 4 bytes 的記憶體，這樣光把迴圈的計數 `range()` 列出來就很消耗記憶體了。\n",
    "    * 事實上我們不需要這樣做。以迴圈為例，用到時（比如第98個迴圈）再把數字（比如97）放出來就好。\n",
    "    * 生成器就是先把數字收著，需要用時再放出來。"
   ]
  },
  {
   "cell_type": "code",
   "execution_count": null,
   "metadata": {},
   "outputs": [],
   "source": [
    "print(list(range(0))) # 空串列 []\n",
    "print(list(range(1))) # 單元素串列 [0]\n",
    "print(list(range(1)) == 0) # False: [0] 不是 0，前者是 list，後者是 int\n",
    "\n",
    "print()\n",
    "\n",
    "print(list(range(-3, 5))) # [-3, -2, -1, 0, 1, 2, 3, 4]\n",
    "print(list(range(10, 0))) # []\n",
    "print(range(0, 10) == range(10)) # True\n",
    "\n",
    "print()\n",
    "\n",
    "print(list(range(1, 10, 2))) # 從 1 排到 9，公差為 2 就是 [1, 3, 5, 7, 9]\n",
    "print(list(range(2, 10, 2))) # 從 2 排到 9，公差為 2 就是 [2, 4, 6, 8]\n",
    "print(list(range(10, 1, -1))) # 從 10 排到 2，公差為 -1 就是 [10, 9, 8, 7, 6, 5, 4, 3, 2]\n",
    "print(list(range(10, 0, -2))) # 從 10 排到 1，公差為 -2 就是 [10, 8, 6, 4, 2]\n",
    "print(range(5, 10, 1) == range(5, 10)) # True"
   ]
  },
  {
   "cell_type": "markdown",
   "metadata": {},
   "source": [
    "<a id='for_loops'></a>\n",
    "## 3.2 for 迴圈\n",
    "[回目錄](#HOME)\n",
    "\n",
    "* `for` 迴圈的基本語法為：  \n",
    "```python\n",
    "for 元素 in 可迭代物件:\n",
    "    程式區塊\n",
    "```\n",
    "* `可迭代物件` 用白話說就是 **可以按順序枚舉一個個元素**，當然包含串列。"
   ]
  },
  {
   "cell_type": "code",
   "execution_count": null,
   "metadata": {
    "scrolled": true
   },
   "outputs": [],
   "source": [
    "for i in range(10): # 記得加上冒號以及縮排\n",
    "    print(i, end=',')"
   ]
  },
  {
   "cell_type": "code",
   "execution_count": null,
   "metadata": {},
   "outputs": [],
   "source": [
    "# 假如覺得 str1 以逗點結尾不好看，可以換成句點結尾\n",
    "# 這裡用到字串（string）運算，請複習第一講\n",
    "\n",
    "str1 = ''\n",
    "for i in range(10): # 記得加上冒號以及縮排\n",
    "    str1 += str(i) + ', '\n",
    "print(str1) # 注意 str1 最後兩個字元是 \", \"\n",
    "# print(str1[:-1]) # str1 最後一個字元是空格，顯示出來似乎沒有變化 (少一個空格)\n",
    "# print(str1[:-2])\n",
    "print(str1[:-2] + '.')"
   ]
  },
  {
   "cell_type": "code",
   "execution_count": null,
   "metadata": {},
   "outputs": [],
   "source": [
    "# 串列裡的元素不一定是數值，不一定是相同資料型態\n",
    "list2 = [1, '蘋果', 2, '橘子', '經濟學', 3.14]\n",
    "for s in list2:\n",
    "    print(s)"
   ]
  },
  {
   "cell_type": "code",
   "execution_count": null,
   "metadata": {
    "scrolled": true
   },
   "outputs": [],
   "source": [
    "# 求前 n 個數的加總\n",
    "\n",
    "number = int(input('請輸入正整數: '))\n",
    "total = 0\n",
    "for i in range(1, number+1):\n",
    "    total += i\n",
    "print(f'1 到 {number} 的整數和為 {total}。')"
   ]
  },
  {
   "cell_type": "code",
   "execution_count": null,
   "metadata": {},
   "outputs": [],
   "source": [
    "# Fibonacci 數列每一項都是前兩項相加，依序是： 1, 1, 2, 3, 5, 8, 13, 21, 34, 55...\n",
    "# 我們用程式列出 Fibonacci 數列的前 n 項。\n",
    "\n",
    "number = int(input('請輸入正整數: '))\n",
    "print(f'Fibonacci 數列的前 {number} 項為: ')\n",
    "\n",
    "# 在數列前補兩個數，變成 1, 0, 1, 1, 2, 3, 5... 使得我們想要印出的每一項（包括真正的前兩項 1, 1）也都可以寫成前兩個數的和\n",
    "a, b = 1, 0 \n",
    "for i in range(number):\n",
    "    a, b = b, b+a\n",
    "    # print(a, b) # 看一下結果\n",
    "    print(b, end=', ')"
   ]
  },
  {
   "cell_type": "markdown",
   "metadata": {},
   "source": [
    "<a id='nested_for_loops'></a>\n",
    "### 3.2.1 嵌套 for 迴圈\n",
    "[回目錄](#HOME)\n",
    "\n",
    "* 迴圈裡面可以在包含迴圈，稱為嵌套迴圈。\n",
    "* 嵌套迴圈要注意次數問題。比如底下例子，內外層迴圈看起來都只有 1000 次，總迴圈次數卻是 1000*1000 = 一百萬次！"
   ]
  },
  {
   "cell_type": "code",
   "execution_count": null,
   "metadata": {},
   "outputs": [],
   "source": [
    "count = 0 # 迴圈次數\n",
    "for i in range(1000):\n",
    "    for j in range(1000):\n",
    "        count += 1\n",
    "print(count)"
   ]
  },
  {
   "cell_type": "code",
   "execution_count": null,
   "metadata": {
    "scrolled": true
   },
   "outputs": [],
   "source": [
    "# 內層迴圈跑的次數 (j 的 range函數起始值和終止值) 可以隨外層正在跑的圈數 i 而變！\n",
    "\n",
    "for i in range(1, 6): # 外部迴圈，共執行 5 次\n",
    "    print(f'外部第 {i} 次迴圈，內部執行 {2*i-1} 次迴圈: ')\n",
    "    for j in range(1, 2*i): # 內部迴圈，注意上限隨 i 而變 \n",
    "        print(f'外部第 {i} 次 & 內部第 {j} 次') # 可觀察迴圈如何執行\n",
    "    print()  # 換行"
   ]
  },
  {
   "cell_type": "code",
   "execution_count": null,
   "metadata": {
    "scrolled": true
   },
   "outputs": [],
   "source": [
    "# 印九九乘法表\n",
    "for i in range(1,10):\n",
    "    for j in range(1,10):\n",
    "        product = i * j\n",
    "        # print('%d * %d = %-2d' % (i, j, product), end=' ')\n",
    "        # 採用新版 format 格式也可以，但注意等號後面的空格和上面那種不太一樣\n",
    "        # 因為 format格式預設數字留空在前，字串留空在後\n",
    "        # print('{} * {} = {:2}'.format(i, j, product), end='  ')\n",
    "        # 底下這種與第一種印出來效果相同，這裡利用了 '<' 改變了預設留空的位置\n",
    "        print(f'{i} * {j} = {product:<2}', end=' ')\n",
    "    print() # 印完一行換行"
   ]
  },
  {
   "cell_type": "markdown",
   "metadata": {},
   "source": [
    "<a id='break_and_continue'></a>\n",
    "## 3.3 break 指令和 continue 指令\n",
    "\n",
    "<a id='break_statements'></a>\n",
    "### 3.3.1 break 陳述句\n",
    "[回目錄](#HOME)\n",
    "\n",
    "* 有時候，還沒跑完迴圈，我們的任務就完成了，繼續繼續跑下去徒然浪費資源，我們需要能中斷迴圈的指令 `break`。\n",
    "* `break` 指令是放在判斷句之下，會中斷程式區塊。我們先看一個例子。"
   ]
  },
  {
   "cell_type": "code",
   "execution_count": null,
   "metadata": {},
   "outputs": [],
   "source": [
    "# 原本要印到 9, 結果在 i=5 時觸發 break 中斷迴圈 \n",
    "for i in range(10):\n",
    "    if i == 5:\n",
    "        break\n",
    "    print(f'{i = }')"
   ]
  },
  {
   "cell_type": "code",
   "execution_count": null,
   "metadata": {
    "scrolled": true
   },
   "outputs": [],
   "source": [
    "# 和上頭類似，這裡是先印出來才中斷\n",
    "for i in range(10):\n",
    "    print(f'{i = }')\n",
    "    if i == 5:\n",
    "        break"
   ]
  },
  {
   "cell_type": "markdown",
   "metadata": {},
   "source": [
    "* **內層迴圈的程式區塊被 `break` 中斷以後，外層仍會繼續執行。**  \n",
    "原因：`break` 是中斷程式區塊。**不同外層迴圈**的**內層程式區塊**得視為**不同區塊**，中斷了這個不代表中斷下一個。"
   ]
  },
  {
   "cell_type": "code",
   "execution_count": null,
   "metadata": {
    "scrolled": true
   },
   "outputs": [],
   "source": [
    "for i in range(5):\n",
    "    print('(i,j) = ', end='')\n",
    "    for j in range(6):\n",
    "        if i == 3 and j > 3:\n",
    "            break\n",
    "        print(f'({i}, {j})', end=', ')\n",
    "    print()"
   ]
  },
  {
   "cell_type": "code",
   "execution_count": null,
   "metadata": {
    "scrolled": true
   },
   "outputs": [],
   "source": [
    "for i in range(5):\n",
    "    print('(i,j) = ', end='')\n",
    "    for j in range(5):\n",
    "        if j > i:\n",
    "            print('break')\n",
    "            break\n",
    "        print(f'({i}, {j}), ', end='')"
   ]
  },
  {
   "cell_type": "code",
   "execution_count": null,
   "metadata": {},
   "outputs": [],
   "source": [
    "# 求兩個正整數的最小公倍數（笨方法）\n",
    "a = int(input('請輸入正整數 a: '))\n",
    "b = int(input('請輸入正整數 b: '))\n",
    "max = a * b \n",
    "for i in range(1, max+1):\n",
    "    if i % a == 0 and i % b == 0:\n",
    "        break\n",
    "print(f'{a} 和 {b} 的最小公倍數 = {i}') "
   ]
  },
  {
   "cell_type": "markdown",
   "metadata": {},
   "source": [
    "<a id='continue_statements'></a>\n",
    "### 3.3.2 continue 陳述句\n",
    "[回目錄](#HOME)\n",
    "\n",
    "* `break` 是中斷整個程式區塊，`continue` 則是**跳出本次迴圈，繼續這個程式區塊的下一次迴圈**。"
   ]
  },
  {
   "cell_type": "code",
   "execution_count": null,
   "metadata": {
    "scrolled": true
   },
   "outputs": [],
   "source": [
    "# 原本要印到 9, 結果在 i=5 時觸發 continue 中斷當次程序，直接走到下一步迴圈。\n",
    "for i in range(10):\n",
    "    if i == 5:\n",
    "        continue\n",
    "    print(f'{i = }') "
   ]
  },
  {
   "cell_type": "markdown",
   "metadata": {},
   "source": [
    "<a id='breaking_out_of_nested_loops'></a>\n",
    "### 3.3.3 補充：跳出整個嵌套迴圈\n",
    "[回目錄](#HOME)\n",
    "\n",
    "* 我們已經知道，當在跑嵌套迴圈時，`break` 只能跳出指令那一層的迴圈，更外層的迴圈仍然會繼續執行。那麼有沒有方法可以跳出整個嵌套迴圈呢？\n",
    "* 不知什麼原因，沒有內建指令滿足需求。但是，我們可以用上一講的**例外處理**來實現這個目標。\n",
    "* 思路：自訂一個例外情況。將判斷句的條件視為這個例外狀態，觸發時程式會整個執行例外情況的命令，因此跳脫整個迴圈。\n",
    "    * 要定義一種例外情況（本例子是 `GetOutofLoop`），以及觸發例外狀態的指令 `raise`。"
   ]
  },
  {
   "cell_type": "code",
   "execution_count": null,
   "metadata": {},
   "outputs": [],
   "source": [
    "class GetOutofLoop(Exception):\n",
    "    pass # 不做任何事情\n",
    "flag = 0\n",
    "try:\n",
    "    for i in range(5):\n",
    "        print('(i,j) = ', end='')\n",
    "        for j in range(6):\n",
    "            if i == 3 and j>3:\n",
    "                flag = 1\n",
    "                raise GetOutofLoop\n",
    "            print(f'({i}, {j})', end=', ')\n",
    "\n",
    "        print()\n",
    "except:\n",
    "    GetOutofLoop"
   ]
  },
  {
   "cell_type": "markdown",
   "metadata": {},
   "source": [
    "* 也可以透過「for... else...」這種用法跳出整個迴圈。    \n",
    "* 「for...else...」邏輯為：   \n",
    "```python\n",
    "for 元素 in 可迭代物件:\n",
    "    ...\n",
    "    break 陳述句\n",
    "    ...\n",
    "else:\n",
    "    程式區塊 1\n",
    "```\n",
    "\n",
    "\n",
    "* 有點反直覺的 Python 規定為：`程式區塊 1` 只有**在同層的 for 迴圈正常結束時才會執行**。\n",
    "* 巧妙運用這個特性，可以跳出雙層迴圈，也可以繼續延伸到跳出多層迴圈。請見下面兩例。\n",
    "* 「for...else...」是 Python 獨有的用法，因其違反直覺而降低程式碼的可讀性，名家如 Brett Slatkin 在他的 Effective Python 一書中建議：儘量不要使用。"
   ]
  },
  {
   "cell_type": "code",
   "execution_count": null,
   "metadata": {},
   "outputs": [],
   "source": [
    "for x in range(3, 10):\n",
    "    print(f'{x = }: x*y 依序為 ', end='')\n",
    "    for y in range(3, 10):\n",
    "        print(x*y, end=', ')\n",
    "        if x*y > 30:\n",
    "            print('中斷！')\n",
    "            break\n",
    "    else:\n",
    "        print('x 完整跑完一個數值。')\n",
    "        continue  # 只有在 for 正常結束沒有中斷時，才會執行，而 continue 在此的效果是避開下面的 break\n",
    "    break  # 當內層 for 迴圈被內層的 break 中斷時，上面的 else 不會執行，因此會走到這層的 break，使得這層的迴圈也中斷"
   ]
  },
  {
   "cell_type": "code",
   "execution_count": null,
   "metadata": {},
   "outputs": [],
   "source": [
    "print('x, y, z 皆從 3 跑到 5，乘積超過 75 則中斷。\\n')\n",
    "\n",
    "for x in range(3, 6):\n",
    "    print(f'{x = } 情況下: ')\n",
    "    for y in range(3, 6):\n",
    "        print(f'{y = }: x*y*z 依序為 ', end='')\n",
    "        for z in range(3, 6):\n",
    "            print(x*y*z, end=', ')\n",
    "            if x*y*z > 75:\n",
    "                print('中斷！')\n",
    "                break\n",
    "        else:\n",
    "            print('繼續...')\n",
    "            continue \n",
    "        break # 唯有中斷觸發這個 break\n",
    "    else:\n",
    "        print('x 完整跑完一個數值。\\n')\n",
    "        continue\n",
    "    break # 唯有上一層迴圈被中斷才可以觸發這個 break"
   ]
  },
  {
   "cell_type": "markdown",
   "metadata": {},
   "source": [
    "<a id='while_loops'></a>\n",
    "## 3.4 while 迴圈\n",
    "[回目錄](#HOME)\n",
    "\n",
    "* `while` 迴圈則是根據判斷式決定是否繼續執行，因此用在**不易確定執行次數的情況**較為方便。基本語法結構為：  \n",
    "```python\n",
    "while 條件式:\n",
    "    程式區塊\n",
    "```  \n",
    "當條件式為 `True` 時，執行程式區塊；**當條件式為 `False`，結束 `while` 迴圈執行後面的程式碼。**\n",
    "* 在使用 `while` 迴圈時要特別留意，必須**確定中止條件能被觸發，迴圈才會結束，否則會陷入無窮迴圈的窘境**。"
   ]
  },
  {
   "cell_type": "code",
   "execution_count": null,
   "metadata": {},
   "outputs": [],
   "source": [
    "# 求前 n 個數的加總\n",
    "\n",
    "number = int(input('請輸入正整數: '))\n",
    "total = 0\n",
    "i = 1\n",
    "while i <= number:\n",
    "    total += i\n",
    "    # print(f'{i = }', end=', ') # 觀察 i 隨每次迴圈的變化\n",
    "    i += 1 # 若忘記寫這行，會變成無窮迴圈。在 Spyder下用 Ctrl+C 中斷，在 Jupyter Notebook 可以在 cell 旁邊按下兩次 i 中斷。\n",
    "    # print(f'此時 {total = }', end=';\\n') # 觀察 total 隨每次迴圈的變化\n",
    "print(f'1 到 {number} 的整數和為 {total}。')"
   ]
  },
  {
   "cell_type": "code",
   "execution_count": null,
   "metadata": {},
   "outputs": [],
   "source": [
    "\"\"\"以輾轉相除法求最大公因數\"\"\"\n",
    "'''\n",
    "求 15 和 39 的最大公因數，算法如下：\n",
    "15 = 39 * 0 + 15;\n",
    "39 = 15 * 2 + 9;\n",
    "15 = 9 * 1 + 6;\n",
    "9 = 6 * 1 + 3;\n",
    "6 = 3 * 2 + 0, \n",
    "最後一行餘數為 0, 因此最後一行的除數 3 為所求。\n",
    "\n",
    "高中數學有介紹原理，複習如下：\n",
    "以 gcd(a, b) 表示兩個正整數 a, b 的最大公因數，\n",
    "又設 a = bq + r，其中 q 是商數，r 是餘數。那麼\n",
    "gcd(a, b) = gcd(b, r)。\n",
    "應用此性質到上面的例子，我們知道\n",
    "gcd(15, 39) = gcd(39, 15) = gcd(15, 9) = gcd(9, 6) = gcd(6, 3) = 3.\n",
    "\n",
    "請寫一個程式，利用輾轉相除法，計算輸入的兩個整數 a 和 b 的最大公因數。\n",
    "善用 while 迴圈，程式碼會比你想像得簡短！\n",
    "'''\n",
    "\n",
    "a = int(input('請輸入正整數 a: '))\n",
    "b = int(input('請輸入正整數 b: '))\n",
    "while b != 0:\n",
    "    a, b = b, a % b\n",
    "print(f'a 與 b 的最大公因數是: {a}')"
   ]
  },
  {
   "cell_type": "markdown",
   "metadata": {},
   "source": [
    "<a id='while_True'></a>\n",
    "### 3.4.1 while True 與程式碼維護 \n",
    "[回目錄](#HOME)\n",
    "\n",
    "* 想像有一個程式，它會根據你的指令執行任務，接著顯示訊息 `Press y or Y to exit:　`（按 y 或 Y 關閉程式），不然會繼續執行。\n",
    "* 程式碼該怎麼寫？你們可以先自己想一下。\n",
    "    * 「執行任務」可以用註解 `# do something`（代表一個程式區塊）和 `print('We have completed the task.')`（代表一個程式區塊完成）來表示。"
   ]
  },
  {
   "cell_type": "code",
   "execution_count": null,
   "metadata": {
    "scrolled": true
   },
   "outputs": [],
   "source": [
    "# do something\n",
    "print('We have completed the task.')\n",
    "exit = input('Press y or Y to exit: ')\n",
    "\n",
    "while not (exit == \"y\" or exit == \"Y\"):\n",
    "    # do something\n",
    "    print('We have completed the task.')\n",
    "    exit = input(\"Press y or Y to exit: \")\n",
    "        \n",
    "print('ByeBye!')"
   ]
  },
  {
   "cell_type": "markdown",
   "metadata": {},
   "source": [
    "* 解釋：**不按 y 或 Y** 離開的話同樣的訊息會一直顯示，所以會有 `while not` 無窮迴圈的結構。\n",
    "* 邏輯是不是有點繞呢？\n",
    "* 「程式運作邏輯不直接」會降低「程式碼的可讀性」，這種情況要儘量避免。\n",
    "* **程式碼可讀性是程式碼好壞的重要標準。**\n",
    "* 更糟的是，任務相關程式碼 **`# do something` 和 `print('We have completed the task.')`** 以及提示離開的訊息 **`exit = input('Press y or Y to exit: ')`** 皆重複兩次。這會造成**程式碼不易維護。**\n",
    "    * 想像你拿這一小段程式碼放在你寫的某個 App 程式碼之中。\n",
    "    * 結果你只改動「任務相關程式碼」一次，忘了改動另一處。（當程式碼很長的時候，這種情況很可能會發生。）\n",
    "    * 這兩處分散的程式碼要始終保持一致，否則程式不是正確運作。我們把這種情況稱為「潛在不一致」（potentially inconsistency）。\n",
    "* 以**可讀性**和**易維護性**作為標準，上面那一段程式碼不夠好，還可以怎麼改善呢？接下來介紹 `while True` 這種常用做法。\n",
    "* `while True` 代表 `while` 後面的條件式恆為真，因此，本身是無窮迴圈。\n",
    "    * **必須在迴圈的程式區塊加上某種機制（條件式和 `break` 陳述句），以便令迴圈中斷**。\n",
    "* 上面的例子可以用 `while True` 改寫。同學們看看，**可讀性**和**易維護性**都明顯改善了。"
   ]
  },
  {
   "cell_type": "code",
   "execution_count": null,
   "metadata": {},
   "outputs": [],
   "source": [
    "while True:\n",
    "    # do something\n",
    "    print('We have completed the task.')\n",
    "    exit = input(\"Press y or Y to exit: \")\n",
    "    if exit == \"y\" or exit == \"Y\":\n",
    "        break\n",
    "\n",
    "print('ByeBye!')"
   ]
  }
 ],
 "metadata": {
  "kernelspec": {
   "display_name": "Python 3 (ipykernel)",
   "language": "python",
   "name": "python3"
  },
  "language_info": {
   "codemirror_mode": {
    "name": "ipython",
    "version": 3
   },
   "file_extension": ".py",
   "mimetype": "text/x-python",
   "name": "python",
   "nbconvert_exporter": "python",
   "pygments_lexer": "ipython3",
   "version": "3.9.15"
  },
  "varInspector": {
   "cols": {
    "lenName": 16,
    "lenType": 16,
    "lenVar": 40
   },
   "kernels_config": {
    "python": {
     "delete_cmd_postfix": "",
     "delete_cmd_prefix": "del ",
     "library": "var_list.py",
     "varRefreshCmd": "print(var_dic_list())"
    },
    "r": {
     "delete_cmd_postfix": ") ",
     "delete_cmd_prefix": "rm(",
     "library": "var_list.r",
     "varRefreshCmd": "cat(var_dic_list()) "
    }
   },
   "types_to_exclude": [
    "module",
    "function",
    "builtin_function_or_method",
    "instance",
    "_Feature"
   ],
   "window_display": false
  }
 },
 "nbformat": 4,
 "nbformat_minor": 4
}
