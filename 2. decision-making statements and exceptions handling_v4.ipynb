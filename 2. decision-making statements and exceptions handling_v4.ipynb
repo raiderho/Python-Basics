{
 "cells": [
  {
   "cell_type": "markdown",
   "metadata": {},
   "source": [
    "# Instructor\n",
    "\n",
    "> **Steven Ho**     \n",
    "raiderho@gmail.com  \n",
    "如有任何意見，歡迎指教。"
   ]
  },
  {
   "cell_type": "markdown",
   "metadata": {},
   "source": [
    "<a id='HOME'></a>\n",
    "# 2. Decision-Making Statements and Exceptions Handling\n",
    "## 判斷式和例外處理\n",
    "\n",
    "* [2.1 Python 程式碼縮排](#indentation) \n",
    "* [2.2 判斷式](#statements)\n",
    "    * [2.2.1 流程控制](#control_flow)\n",
    "    * [2.2.2 單向判斷式 (if...)](#if_statements)\n",
    "    * [2.2.3 雙向判斷式 (if...else)](#if_else_statements)\n",
    "    * [2.2.4 多向判斷式 (if...elif...else)](#if_elif_else_statements)\n",
    "    * [2.2.5 嵌套判斷式](#nested_statements)\n",
    "* [2.3 例外處理](#exceptions_handling)\n",
    "    * [2.3.1 try... except 語法](#try_except_syntax)\n",
    "    * [2.3.2 常用錯誤表](#common_errors_table)"
   ]
  },
  {
   "cell_type": "markdown",
   "metadata": {},
   "source": [
    "<a id='indentation'></a>\n",
    "## 2.1 Python 程式碼縮排\n",
    "\n",
    "* Python 語言以冒號「:」及縮排來表示程式區塊，縮排「最建議」**使用 4 個空白鍵**，「次建議」**用 1 個 Tab 鍵**。\n",
    "* 假如縮排距離不一致，執行程式會出現錯誤。"
   ]
  },
  {
   "cell_type": "code",
   "execution_count": null,
   "metadata": {},
   "outputs": [],
   "source": [
    "score = int(input('請輸入你的程式設計課分數: '))\n",
    "say = '你本門課修課成績'\n",
    "\n",
    "if score >= 60: # 冒號以後下一行，就是一組程式區塊\n",
    "    result = '及格' # 注意：本行一開始有 4 個（半形）空格，這就是縮排\n",
    "    print(f'{say}{result}, 恭喜!') # 注意這兩行前面都有四個空格的距離，至此一組程式區塊結束\n",
    "else: # 冒號以後，另一組程式區塊開始\n",
    "    result = '不及格' # 第二組程式區塊結束\n",
    "    print(f'{say}{result}, 明年繼續努力!')"
   ]
  },
  {
   "cell_type": "markdown",
   "metadata": {},
   "source": [
    "* 原則上，用 4 個空白鍵或者 1 個 Tab 鍵都可以。\n",
    "* 原則上，**不應該**在同一組程式區塊中，混用 4 個空白鍵和 1 個 Tab 鍵。\n",
    "    * 比較強大的文字編輯器（如 Notepad++ 或 Sublime Text 3），或者比較流行的 Python IDE（整合開發環境，如 Spyder 或 Jupyter Notebook），都會將縮排的 Tab 空行轉換成 4 個半形空格，因此執行程式時不會出錯。\n",
    "    * 然而使用比較陽春的文字編輯器或者 IDE 可能就會出錯。\n",
    "    * 寫程式，我們還是要養成**從一而終**的好習慣，要嘛就用 4 個空白鍵，要嘛就用 1 個 Tab 鍵。"
   ]
  },
  {
   "cell_type": "markdown",
   "metadata": {},
   "source": [
    "<a id='statements'></a>\n",
    "## 2.2 判斷式\n",
    "[回目錄](#HOME)\n",
    "\n",
    "* 我們經常面臨不同情境來作決策，比如說：\n",
    "    - 若是明天股價大漲：賣掉一張，把這些錢拿來假期出遊 (if 條件一: 決策一）；  \n",
    "    - 若是明天股價小漲或平盤：把股票留倉幾天查看情況 (else if 條件二: 決策二）；  \n",
    "    - 若是股價小跌：加碼買進，同時買進相應的選擇權來避險 (else if 條件三: 決策三）；\n",
    "    - 若是股價大跌：觸發選擇權避險機制，先平倉，這幾天空手查看情況 (else 條件四: 決策四)。\n",
    "* 因應不同情境作出不同的處理方式，在程式語言就叫做判斷式。"
   ]
  },
  {
   "cell_type": "markdown",
   "metadata": {},
   "source": [
    "<a id='control_flow'></a>\n",
    "### 2.2.1 流程控制\n",
    "[回目錄](#HOME)\n",
    "\n",
    "* Python 流程控制命令分為判斷式和迴圈兩大類。\n",
    "* 判斷式：根據**條件式的真假值**決定程式的流程，**若條件式結果為 True，就執行條件式之後的程式區塊**；**若為 False，就跳過這個程式區塊**。\n",
    "* 判斷式基本結構是 if... elif... else...\n",
    "    * elif 是 else if 的縮寫。如同前面買賣股票的例子，elif 可以有複數個。\n",
    "* 判斷式可以只有 if（只看是否滿足一種情況），然而，可能有好幾個 if 判斷式，但這些 if 判斷式在邏輯上**不一定是互斥**也**不一定互補**。例如：\n",
    "    - `if 明天來的是男生: 則...`\n",
    "    - `if 明天下雨: 則...`\n",
    "    * 這兩個 if 條件可能會同時發生（明天下雨，而且來的是男生，代表**不互斥**），也可能會同時不發生（明天沒下雨，而且來的是女生，代表**不互補**）。\n",
    "    \n",
    "* 判斷式也可以只有 if 和 else，這時兩種情況依定是**互斥且互補**。例如：  \n",
    "    - `if 明天下雨: 則...`\n",
    "    - `else: 則...`\n",
    "    * 天氣要嘛下雨，要嘛不下雨，不會同時發生（因此 `if` 和 `else` **兩者必定互斥**），也不會同時不發生（把所有可能性窮盡了，**兩者互補**）。\n",
    "* 迴圈：有兩大類。第一類是 while 迴圈：根據判斷式的真假值決定是否**重複執行**程式區塊。第二類是 for 迴圈，直接限定變數範圍，**重複執行**程式區塊。\n",
    "    * while 迴圈可以看作**重複進行以下動作：**根據某個 if 判斷式的真假值決定是否執行某個程式區塊。\n",
    "    * 迴圈這是下一講的主題。"
   ]
  },
  {
   "cell_type": "markdown",
   "metadata": {},
   "source": [
    "<a id='if_statements'></a>\n",
    "### 2.2.2 單向判斷式 (if...)\n",
    "[回目錄](#HOME)\n",
    "\n",
    "* 「if...」 為單向判斷式，是 if 指令中最簡單的型態，語法為：  \n",
    "```python\n",
    "if 條件式:\n",
    "    程式區塊\n",
    "```\n",
    "* 語法中的**冒號不可以省略**。條件式前後也可以加括弧，亦即：  \n",
    "```python\n",
    "if (條件式):\n",
    "    程式區塊\n",
    "```\n",
    "* 條件式為 `True` 時，才會執行`程式區塊`；若為 `False`，就不為執行`程式區塊`，直接跳過。\n",
    "<img src=\"https://i.imgur.com/HvOT7v8.png\" width=\"300\" height=\"250\" />"
   ]
  },
  {
   "cell_type": "code",
   "execution_count": null,
   "metadata": {},
   "outputs": [],
   "source": [
    "pw = input('請輸入密碼: ')\n",
    "if pw == '12345678':\n",
    "    print('輸入正確！')\n",
    "print('此行一定會顯示。')"
   ]
  },
  {
   "cell_type": "markdown",
   "metadata": {},
   "source": [
    "<a id='if_else_statements'></a>\n",
    "### 2.2.3 雙向判斷式 (if...else)\n",
    "[回目錄](#HOME)\n",
    "\n",
    "* 有時候，若判斷式條件不成立，也應該要做某些事，比如密碼驗證失敗（條件判斷式不成立），應該顯示訊息告知使用者，這時候可以使用雙向判斷式。\n",
    "* 「if... else...」為雙向判斷式，語法為：  \n",
    "```python\n",
    "if 條件式:\n",
    "    程式區塊 1\n",
    "else:\n",
    "    程式區塊 2\n",
    "```\n",
    "\n",
    "* 當條件式為 `True` 時，執行`程式區塊 1`；若為 `False`，執行`程式區塊 2`。\n",
    "<img src=\"https://i.imgur.com/XEWYdH8.png\" width=\"450\" height=\"250\" />\n",
    "\n",
    "* 若`程式區塊 1`為`某變數 = 值1`，且`程式區塊 2`為`某變數 = 值2`，這種情況最為單純，此時語法可以更簡潔：\n",
    "```python\n",
    "某變數 = 值1 if 條件式 else 值2\n",
    "```"
   ]
  },
  {
   "cell_type": "code",
   "execution_count": null,
   "metadata": {},
   "outputs": [],
   "source": [
    "pw = input('請輸入密碼: ')\n",
    "if pw == '12345678':\n",
    "    print('輸入正確！')\n",
    "else:\n",
    "    print('輸入錯誤！')"
   ]
  },
  {
   "cell_type": "code",
   "execution_count": null,
   "metadata": {},
   "outputs": [],
   "source": [
    "# 同前例，但語法更簡潔\n",
    "pw = input('請輸入密碼: ')\n",
    "sentence = '輸入正確！' if pw == '12345678' else '輸入錯誤！'\n",
    "print(sentence)"
   ]
  },
  {
   "cell_type": "code",
   "execution_count": null,
   "metadata": {},
   "outputs": [],
   "source": [
    "# 將本講開頭範例用更簡潔的語法來寫\n",
    "score = int(input('請輸入你的程式設計課分數: '))\n",
    "conclusion = '及格, 恭喜!' if score >= 60 else '不及格, 明年繼續努力'\n",
    "print(f'你本門課修課成績{conclusion}')"
   ]
  },
  {
   "cell_type": "markdown",
   "metadata": {},
   "source": [
    "<a id='if_elif_else_statements'></a>\n",
    "### 2.2.4 多向判斷式 (if...elif...else)\n",
    "[回目錄](#HOME)\n",
    "\n",
    "* 很多時候，單憑一個條件並不能區分各種情況，比如將輸入成績轉換成等第制，80 分以上轉成 A，70-79 分轉成 B，60-69 分轉成 C，不及格者轉成 D，此為多向判斷式的使用時機。\n",
    "* 「if... elif... else...」為多向判斷式，語法為：(n $\\geq$ 2)   \n",
    "```python\n",
    "if 條件式 1:\n",
    "    程式區塊 1\n",
    "elif 條件式 2:\n",
    "    程式區塊 2  \n",
    "... \n",
    "elif 條件式 n:\n",
    "    程式區塊 n\n",
    "else:\n",
    "    程式區塊 (n+1)\n",
    "```\n",
    "\n",
    "\n",
    "* 當條件式 k (k 是 1,2,...,n 中的一個數) 為 `True` 時，執行程式區塊 k；若所有條件式皆為 `False`，執行程式區塊 n+1。\n",
    "* 注意：從第二個條件式開始，都有 else 開頭（elif = else if），所以**程式只會擇一個程式區塊執行。**\n",
    "* 多向判斷式流程控制的流程圖（以設定兩個條件式為例）：\n",
    "\n",
    "<img src=\"https://i.imgur.com/NkIPZcM.png\" width=\"500\" height=\"300\" />"
   ]
  },
  {
   "cell_type": "code",
   "execution_count": null,
   "metadata": {
    "scrolled": true
   },
   "outputs": [],
   "source": [
    "score = int(input('請輸入成績: '))\n",
    "if score >= 80:\n",
    "    print('成績轉算成等第制為 A.')\n",
    "elif score >= 70:\n",
    "    print('成績轉算成等第制為 B.')\n",
    "elif score >= 60:\n",
    "    print('成績轉算成等第制為 C.')\n",
    "else:\n",
    "    print('成績轉換成等第制為 D.')"
   ]
  },
  {
   "cell_type": "code",
   "execution_count": null,
   "metadata": {},
   "outputs": [],
   "source": [
    "\"\"\"\n",
    "範例：\n",
    "台灣稅率採累進所得稅，具體如下：\n",
    "全年綜合所得淨額在 54 萬元以下者，課徵5％；\n",
    "超過 54 萬元至 121 萬元者，課徵12％；\n",
    "超過 121 萬元至 242 萬元者，課徵20％；\n",
    "超過 242 萬元至 453 萬元者，課徵30％；\n",
    "453萬元以上者，課徵40％。\n",
    "請寫一個程式，\n",
    "輸入使用者的綜合所得稅淨額（單位為萬元），\n",
    "輸出使用者要繳的稅（單位為元，無條件捨去到整數位）。\n",
    "\"\"\"\n",
    "\n",
    "income = int(input('請輸入您的綜合所得稅淨額（單位：萬元）: '))\n",
    "\n",
    "tax1 = 540000 *0.05\n",
    "tax2 = tax1 + (121 - 54) * 10000 * 0.12\n",
    "tax3 = tax2 + (242 - 121) * 10000 * 0.2 \n",
    "tax4 = tax3 + (453 - 242) * 10000 * 0.3\n",
    "\n",
    "if  income <= 54:\n",
    "    tax = income * 10000 * 0.05\n",
    "elif income <= 121:\n",
    "    tax = tax1 + (income - 54) * 10000 * 0.12\n",
    "elif income <= 242:\n",
    "    tax = tax2 + (income - 121) * 10000 * 0.2\n",
    "elif income <= 453:\n",
    "    tax = tax3 + (income - 242) * 10000 * 0.3\n",
    "else:\n",
    "    tax = tax4 + (income - 453) * 10000 * 0.4\n",
    "\n",
    "print(f'試算結果，您今年必須繳稅 {tax} 元。')"
   ]
  },
  {
   "cell_type": "markdown",
   "metadata": {},
   "source": [
    "<a id='nested_statements'></a>\n",
    "### 2.2.5 嵌套判斷式 \n",
    "[回目錄](#HOME)\n",
    "\n",
    "* 判斷式中可以包含判斷式，稱為嵌套判斷式。\n",
    "* Python 並未規定判斷式的層數，原則上多少層判斷式都可以，但層數太多會降低程式的可讀性，維護程式碼也不方便。\n",
    "* 我們可以把多向判斷式改寫成嵌套判斷式，比如 n=3 時有 4 個程式區塊：\n",
    "```python\n",
    "if 條件式 1:\n",
    "    程式區塊 1\n",
    "else:\n",
    "    if 條件式 2:\n",
    "        程式區塊 2\n",
    "    else:  \n",
    "        if 條件式 3:\n",
    "            程式區塊 3\n",
    "        else:\n",
    "            程式區塊 4\n",
    "```\n",
    "\n",
    "\n",
    "* 請注意縮排逐層遞進。\n",
    "* 可以看出，嵌套判斷式層數越多，可讀性越差。 "
   ]
  },
  {
   "cell_type": "code",
   "execution_count": null,
   "metadata": {},
   "outputs": [],
   "source": [
    "\"\"\"\n",
    "請寫一個程式，輸入 a, b, c 三個整數，程式傳回最大的數及其數值。\n",
    "格式：假如有兩個數一樣大，任取一傳回即可。\n",
    "\"\"\"\n",
    "\n",
    "a = int(input('請輸入 a 的值：'))\n",
    "b = int(input('請輸入 b 的值：'))\n",
    "c = int(input('請輸入 c 的值：'))\n",
    "\n",
    "if a > b:\n",
    "    if a > c:\n",
    "        print(f'最大值為 {a = }')\n",
    "    else: # a <= c\n",
    "        print(f'最大值為 {c = }') \n",
    "\n",
    "else: # a <= b\n",
    "    if b > c:\n",
    "        print(f'最大值為 {b = }')  \n",
    "    else: # b <= c \n",
    "        print(f'最大值為 {c = }') "
   ]
  },
  {
   "cell_type": "code",
   "execution_count": null,
   "metadata": {},
   "outputs": [],
   "source": [
    "\"\"\"\n",
    "同前例，但是假如兩個以上的數都是最大值，必須回報所有數與其數值。\n",
    "\"\"\"\n",
    "\n",
    "a = int(input('請輸入 a 的值：'))\n",
    "b = int(input('請輸入 b 的值：'))\n",
    "c = int(input('請輸入 c 的值：'))\n",
    "\n",
    "if a > b:\n",
    "    if a > c:\n",
    "        print(f'最大值為 {a = }')\n",
    "    elif a < c:\n",
    "        print(f'最大值為 {c = } ') \n",
    "    else: # a == c \n",
    "        print(f'最大值為 a = {c = }') \n",
    "\n",
    "elif a < b: \n",
    "    if b > c:\n",
    "        print(f'最大值為 {b = }')  \n",
    "    elif b < c:\n",
    "        print(f'最大值為 {c = }') \n",
    "    else: # b == c\n",
    "        print(f'最大值為 b = {c = }')\n",
    "        \n",
    "else: # a == b \n",
    "    if a > c:\n",
    "        print(f'最大值為 a = {b = }')\n",
    "    elif a < c:\n",
    "        print(f'最大值為 {c = }') \n",
    "    else: # a == b == c\n",
    "        print(f'最大值為 a = b = {c = }')    "
   ]
  },
  {
   "cell_type": "markdown",
   "metadata": {},
   "source": [
    "<a id='exceptions_handling'></a>\n",
    "## 2.3 例外處理 \n",
    "[回目錄](#HOME)\n",
    "\n",
    "* 當執行程式發生錯誤時會**中斷程式執行**。然而，我們常常希望程式繼續執行。\n",
    "    * 錯誤狀況包括：變數不存在、資料型態不符等等。\n",
    "    * 你寫了一個程式，已經跑了數百小時，卻因為一個小小錯誤中斷，這樣很浪費時間和資源。\n",
    "* Python 可以用 `try... except` 將錯誤視為例外（exception），繼續執行程式。基本架構為：  \n",
    "```python\n",
    "try:\n",
    "    程式區塊\n",
    "except:\n",
    "    發生例外時執行的程式區塊\n",
    "```"
   ]
  },
  {
   "cell_type": "markdown",
   "metadata": {},
   "source": [
    "<a id='try_except_syntax'></a>\n",
    "### 2.3.1 try... except 語法 \n",
    "[回目錄](#HOME)\n",
    "\n",
    "* 完整的例外處理語法為：  \n",
    "```python\n",
    "try:\n",
    "    程式區塊 0\n",
    "except 例外狀況 1:\n",
    "    發生例外狀況 1 時的程式區塊\n",
    "except 例外狀況 2:\n",
    "    發生例外狀況 2 時的程式區塊\n",
    "...\n",
    "except:\n",
    "    處理其他所有例外的程式區塊\n",
    "else:\n",
    "    沒有發生例外時執行的程式區塊\n",
    "finally:\n",
    "    一定會執行的程式區塊\n",
    "```\n",
    "\n",
    "\n",
    "* `else`、`finally` 非必填。\n",
    "* `except` 可設定多種例外狀況。若省略指定即代表一發生例外狀況即執行。\n",
    "    * 枚舉例外時，先小範圍再大範圍，最後一個 `except` 的錯誤類型為 `except Exception`，先前的沒有列出的錯誤類型都在此處進行處理。\n",
    "    * 如何描述錯誤類型？請見下一段[常用錯誤表](#common_errors_table)。\n",
    "* 對最後的 `except`，若想明確描述遇到哪一種錯誤，可以用如下方式：  \n",
    "```python\n",
    "except Exception as e:\n",
    "    print('錯誤為:', e)\n",
    "```  \n",
    "將實際例外情況顯示出來。\n",
    "\n",
    "\n",
    "* **進階閱讀：** 同學們可能會覺得 `else` 和 `finally` 並非必要，但它們可以改善程式的可讀性，也可明確捕捉例外情況。參考底下的討論串：\n",
    "    * 對於`else`，參考[討論串](https://stackoverflow.com/questions/855759/what-is-the-intended-use-of-the-optional-else-clause-of-the-try-statement-in)的**前兩個回答**。\n",
    "    * 對於`finally`，參考[討論串](https://stackoverflow.com/questions/11551996/why-do-we-need-the-finally-clause-in-python)的**第一個回答**。"
   ]
  },
  {
   "cell_type": "code",
   "execution_count": null,
   "metadata": {},
   "outputs": [],
   "source": [
    "\"\"\"\n",
    "寫一個程式計算兩個輸入數值的和。\n",
    "假如輸入的字串無法轉成數值，回報「發生輸入非數值的錯誤」。\n",
    "\"\"\"\n",
    "\n",
    "try:\n",
    "    a = float(input('請輸入第一個數 a: '))\n",
    "    b = float(input('請輸入第二個數 b: '))\n",
    "    c = a + b\n",
    "    print('兩數 a 和 b 的和為', c)\n",
    "except:\n",
    "    print('發生輸入非數值的錯誤！') \n",
    "    \n",
    "print('就算輸入錯誤，此行也一定會顯示。')"
   ]
  },
  {
   "cell_type": "code",
   "execution_count": null,
   "metadata": {},
   "outputs": [],
   "source": [
    "\"\"\"\n",
    "寫一個程式，輸入 a, b 兩個整數，傳回 a 除以 b 的餘數。\n",
    "假如輸入的字串無法轉成整數，回報「輸入值不是整數」；\n",
    "其他錯誤只可能是除數為 0, 此時回報「除數為 0，無法計算」。 \n",
    "\"\"\"\n",
    "\n",
    "try:\n",
    "    a = int(input('請輸入第一個整數 a: '))\n",
    "    b = int(input('請輸入第二個整數 b: '))\n",
    "    r = a % b\n",
    "    print('a 除以 b 的餘數為', r)\n",
    "\n",
    "except ValueError:\n",
    "    print('輸入值不是整數')   \n",
    "except:\n",
    "    print('除數為 0，無法計算')"
   ]
  },
  {
   "cell_type": "markdown",
   "metadata": {},
   "source": [
    "<a id='common_errors_table'></a>\n",
    "### 2.3.2 常用錯誤表\n",
    "[回目錄](#HOME)\n",
    "\n",
    "* 以下是常用錯誤表：\n",
    "\n",
    "|錯誤名稱|說明|\n",
    "|:--|:--|\n",
    "|IOError|輸入/輸出錯誤|\n",
    "|NameError|變數名稱為宣告的錯誤|\n",
    "|ValueError|數值錯誤|\n",
    "|ZeroDivsionError|除數為0的錯誤|\n",
    "\n",
    "* 例如：以 `ValueError` 捕捉「輸入非數值的錯誤」、以 `ZeroDivisionError` 捕捉「分母為 0 的錯誤」。"
   ]
  },
  {
   "cell_type": "code",
   "execution_count": null,
   "metadata": {},
   "outputs": [],
   "source": [
    "\"\"\"\n",
    "同前例，僅僅一小處差別：由於我們多知道 ZeroDivisionError 是「除數為 0 的錯誤」，因此，我們可以在例外狀況明確標定出這類錯誤。\n",
    "\"\"\"\n",
    "\n",
    "try:\n",
    "    a = int(input('請輸入第一個整數 a: '))\n",
    "    b = int(input('請輸入第二個整數 b: '))\n",
    "    r = a % b\n",
    "    print(f'a 除以 b 的餘數為 {r}')\n",
    "\n",
    "except ValueError:\n",
    "    print('輸入值不是整數')\n",
    "except ZeroDivisionError: \n",
    "    print('除數為 0，無法計算')"
   ]
  }
 ],
 "metadata": {
  "kernelspec": {
   "display_name": "Python 3 (ipykernel)",
   "language": "python",
   "name": "python3"
  },
  "language_info": {
   "codemirror_mode": {
    "name": "ipython",
    "version": 3
   },
   "file_extension": ".py",
   "mimetype": "text/x-python",
   "name": "python",
   "nbconvert_exporter": "python",
   "pygments_lexer": "ipython3",
   "version": "3.9.15"
  },
  "varInspector": {
   "cols": {
    "lenName": 16,
    "lenType": 16,
    "lenVar": 40
   },
   "kernels_config": {
    "python": {
     "delete_cmd_postfix": "",
     "delete_cmd_prefix": "del ",
     "library": "var_list.py",
     "varRefreshCmd": "print(var_dic_list())"
    },
    "r": {
     "delete_cmd_postfix": ") ",
     "delete_cmd_prefix": "rm(",
     "library": "var_list.r",
     "varRefreshCmd": "cat(var_dic_list()) "
    }
   },
   "types_to_exclude": [
    "module",
    "function",
    "builtin_function_or_method",
    "instance",
    "_Feature"
   ],
   "window_display": false
  }
 },
 "nbformat": 4,
 "nbformat_minor": 4
}
